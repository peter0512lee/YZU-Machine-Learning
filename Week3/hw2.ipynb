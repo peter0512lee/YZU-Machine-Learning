{
 "metadata": {
  "language_info": {
   "codemirror_mode": {
    "name": "ipython",
    "version": 3
   },
   "file_extension": ".py",
   "mimetype": "text/x-python",
   "name": "python",
   "nbconvert_exporter": "python",
   "pygments_lexer": "ipython3",
   "version": "3.9.1-final"
  },
  "orig_nbformat": 2,
  "kernelspec": {
   "name": "python3",
   "display_name": "Python 3.9.1 64-bit",
   "metadata": {
    "interpreter": {
     "hash": "ac2eaa0ea0ebeafcc7822e65e46aa9d4f966f30b695406963e145ea4a91cd4fc"
    }
   }
  }
 },
 "nbformat": 4,
 "nbformat_minor": 2,
 "cells": [
  {
   "source": [
    "# Numpy"
   ],
   "cell_type": "markdown",
   "metadata": {}
  },
  {
   "cell_type": "code",
   "execution_count": 3,
   "metadata": {},
   "outputs": [],
   "source": [
    "import numpy as np"
   ]
  },
  {
   "source": [
    "## Q1"
   ],
   "cell_type": "markdown",
   "metadata": {}
  },
  {
   "cell_type": "code",
   "execution_count": 12,
   "metadata": {},
   "outputs": [
    {
     "output_type": "execute_result",
     "data": {
      "text/plain": [
       "1275"
      ]
     },
     "metadata": {},
     "execution_count": 12
    }
   ],
   "source": [
    "# 1061443_李杰穎\n",
    "'''\n",
    "data = np.array([1,2,3,4,5,6,7,8,9,10,\n",
    "                11,12,13,14,15,16,17,18,19,20,\n",
    "                21,22,23,24,25,26,27,28,29,30,\n",
    "                31,32,33,34,35,36,37,38,39,40,\n",
    "                41,42,43,44,45,46,47,48,49,50])\n",
    "data.sum()                \n",
    "'''"
   ]
  },
  {
   "source": [
    "## Q2"
   ],
   "cell_type": "markdown",
   "metadata": {}
  },
  {
   "cell_type": "code",
   "execution_count": 7,
   "metadata": {},
   "outputs": [
    {
     "output_type": "stream",
     "name": "stdout",
     "text": [
      "最小值： -0.977277879876411\n最大值： 2.240893199201458\n總和： 7.380231707288347\n"
     ]
    }
   ],
   "source": [
    "# 1061443_李杰穎\n",
    "'''\n",
    "np.random.seed(0)\n",
    "rnd_data = np.random.randn(10)\n",
    "print('最小值：', rnd_data.min())\n",
    "print('最大值：', rnd_data.max())\n",
    "print('總和：', rnd_data.sum())\n",
    "'''"
   ]
  },
  {
   "source": [
    "## Q3"
   ],
   "cell_type": "markdown",
   "metadata": {}
  },
  {
   "cell_type": "code",
   "execution_count": 33,
   "metadata": {},
   "outputs": [
    {
     "output_type": "stream",
     "name": "stdout",
     "text": [
      "[[45 45 45 45 45]\n [45 45 45 45 45]\n [45 45 45 45 45]\n [45 45 45 45 45]\n [45 45 45 45 45]]\n"
     ]
    }
   ],
   "source": [
    "# 1061443_李杰穎\n",
    "'''\n",
    "data = np.ones((25), dtype = np.int64)*3\n",
    "data = data.reshape(5, 5)\n",
    "print(np.dot(data, data))\n",
    "'''"
   ]
  },
  {
   "source": [
    "## Q4"
   ],
   "cell_type": "markdown",
   "metadata": {}
  },
  {
   "cell_type": "code",
   "execution_count": 46,
   "metadata": {},
   "outputs": [
    {
     "output_type": "stream",
     "name": "stdout",
     "text": [
      "array1:\n [[ 1.624 -0.612 -0.528 -1.073]\n [ 0.865 -2.302  1.745 -0.761]\n [ 0.319 -0.249  1.462 -2.06 ]\n [-0.322 -0.384  1.134 -1.1  ]]\narray2:\n [[-0.417 -0.056 -2.136  1.64 ]\n [-1.793 -0.842  0.503 -1.245]\n [-1.058 -0.909  0.551  2.292]\n [ 0.042 -1.118  0.539 -0.596]]\narray1*array2:\n [[-0.677  0.034  1.128 -1.76 ]\n [-1.552  1.937  0.877  0.948]\n [-0.338  0.227  0.806 -4.722]\n [-0.013  0.429  0.611  0.656]]\narray1dotarray2:\n [[ 0.934  2.103 -4.647  2.855]\n [ 1.889  1.154 -2.454  8.739]\n [-1.318  1.166 -1.111  5.413]\n [-0.422  0.54   0.528  3.204]]\n"
     ]
    }
   ],
   "source": [
    "# 1061443_李杰穎\n",
    "'''\n",
    "%precision 3\n",
    "np.random.seed(1)\n",
    "array1 = np.random.randn(16).reshape(4, 4)\n",
    "print('array1:\\n', array1)\n",
    "np.random.seed(2)\n",
    "array2 = np.random.randn(16).reshape(4, 4)\n",
    "print('array2:\\n', array2)\n",
    "print('array1*array2:\\n', array1*array2)\n",
    "print('array1dotarray2:\\n', np.dot(array1, array2))\n",
    "'''"
   ]
  },
  {
   "source": [
    "# Pandas"
   ],
   "cell_type": "markdown",
   "metadata": {}
  },
  {
   "cell_type": "code",
   "execution_count": 47,
   "metadata": {},
   "outputs": [
    {
     "output_type": "execute_result",
     "data": {
      "text/plain": [
       "  ID Sex  Money   Name\n",
       "0  1   F   1000  Alice\n",
       "1  2   F   2000    Bob\n",
       "2  3   M    500  Candy\n",
       "3  4   M    300  David\n",
       "4  5   F    700   Ella"
      ],
      "text/html": "<div>\n<style scoped>\n    .dataframe tbody tr th:only-of-type {\n        vertical-align: middle;\n    }\n\n    .dataframe tbody tr th {\n        vertical-align: top;\n    }\n\n    .dataframe thead th {\n        text-align: right;\n    }\n</style>\n<table border=\"1\" class=\"dataframe\">\n  <thead>\n    <tr style=\"text-align: right;\">\n      <th></th>\n      <th>ID</th>\n      <th>Sex</th>\n      <th>Money</th>\n      <th>Name</th>\n    </tr>\n  </thead>\n  <tbody>\n    <tr>\n      <th>0</th>\n      <td>1</td>\n      <td>F</td>\n      <td>1000</td>\n      <td>Alice</td>\n    </tr>\n    <tr>\n      <th>1</th>\n      <td>2</td>\n      <td>F</td>\n      <td>2000</td>\n      <td>Bob</td>\n    </tr>\n    <tr>\n      <th>2</th>\n      <td>3</td>\n      <td>M</td>\n      <td>500</td>\n      <td>Candy</td>\n    </tr>\n    <tr>\n      <th>3</th>\n      <td>4</td>\n      <td>M</td>\n      <td>300</td>\n      <td>David</td>\n    </tr>\n    <tr>\n      <th>4</th>\n      <td>5</td>\n      <td>F</td>\n      <td>700</td>\n      <td>Ella</td>\n    </tr>\n  </tbody>\n</table>\n</div>"
     },
     "metadata": {},
     "execution_count": 47
    }
   ],
   "source": [
    "# 1061443_李杰穎\n",
    "from pandas import Series,DataFrame\n",
    "import pandas as pd\n",
    "\n",
    "attri_data1 = {'ID':['1','2','3','4','5'],\n",
    "               'Sex':['F','F','M','M','F'],\n",
    "               'Money':[1000,2000,500,300,700],\n",
    "               'Name':['Alice','Bob','Candy','David','Ella']}\n",
    "\n",
    "attri_data_frame1 = DataFrame(attri_data1)\n",
    "attri_data_frame1"
   ]
  },
  {
   "source": [
    "## Q1"
   ],
   "cell_type": "markdown",
   "metadata": {}
  },
  {
   "cell_type": "code",
   "execution_count": 48,
   "metadata": {},
   "outputs": [
    {
     "output_type": "execute_result",
     "data": {
      "text/plain": [
       "  ID Sex  Money   Name\n",
       "0  1   F   1000  Alice\n",
       "1  2   F   2000    Bob\n",
       "2  3   M    500  Candy\n",
       "4  5   F    700   Ella"
      ],
      "text/html": "<div>\n<style scoped>\n    .dataframe tbody tr th:only-of-type {\n        vertical-align: middle;\n    }\n\n    .dataframe tbody tr th {\n        vertical-align: top;\n    }\n\n    .dataframe thead th {\n        text-align: right;\n    }\n</style>\n<table border=\"1\" class=\"dataframe\">\n  <thead>\n    <tr style=\"text-align: right;\">\n      <th></th>\n      <th>ID</th>\n      <th>Sex</th>\n      <th>Money</th>\n      <th>Name</th>\n    </tr>\n  </thead>\n  <tbody>\n    <tr>\n      <th>0</th>\n      <td>1</td>\n      <td>F</td>\n      <td>1000</td>\n      <td>Alice</td>\n    </tr>\n    <tr>\n      <th>1</th>\n      <td>2</td>\n      <td>F</td>\n      <td>2000</td>\n      <td>Bob</td>\n    </tr>\n    <tr>\n      <th>2</th>\n      <td>3</td>\n      <td>M</td>\n      <td>500</td>\n      <td>Candy</td>\n    </tr>\n    <tr>\n      <th>4</th>\n      <td>5</td>\n      <td>F</td>\n      <td>700</td>\n      <td>Ella</td>\n    </tr>\n  </tbody>\n</table>\n</div>"
     },
     "metadata": {},
     "execution_count": 48
    }
   ],
   "source": [
    "# 1061443_李杰穎\n",
    "'''\n",
    "attri_data_frame1[attri_data_frame1['Money'] >= 500]\n",
    "'''"
   ]
  },
  {
   "source": [
    "## Q2"
   ],
   "cell_type": "markdown",
   "metadata": {}
  },
  {
   "cell_type": "code",
   "execution_count": 49,
   "metadata": {},
   "outputs": [
    {
     "output_type": "execute_result",
     "data": {
      "text/plain": [
       "Sex\n",
       "F    1233.333333\n",
       "M     400.000000\n",
       "Name: Money, dtype: float64"
      ]
     },
     "metadata": {},
     "execution_count": 49
    }
   ],
   "source": [
    "# 1061443_李杰穎\n",
    "'''\n",
    "attri_data_frame1.groupby('Sex')['Money'].mean()\n",
    "'''"
   ]
  },
  {
   "cell_type": "code",
   "execution_count": 50,
   "metadata": {},
   "outputs": [
    {
     "output_type": "execute_result",
     "data": {
      "text/plain": [
       "  ID  Math  English\n",
       "0  3    60       80\n",
       "1  4    30       20\n",
       "2  7    40       30"
      ],
      "text/html": "<div>\n<style scoped>\n    .dataframe tbody tr th:only-of-type {\n        vertical-align: middle;\n    }\n\n    .dataframe tbody tr th {\n        vertical-align: top;\n    }\n\n    .dataframe thead th {\n        text-align: right;\n    }\n</style>\n<table border=\"1\" class=\"dataframe\">\n  <thead>\n    <tr style=\"text-align: right;\">\n      <th></th>\n      <th>ID</th>\n      <th>Math</th>\n      <th>English</th>\n    </tr>\n  </thead>\n  <tbody>\n    <tr>\n      <th>0</th>\n      <td>3</td>\n      <td>60</td>\n      <td>80</td>\n    </tr>\n    <tr>\n      <th>1</th>\n      <td>4</td>\n      <td>30</td>\n      <td>20</td>\n    </tr>\n    <tr>\n      <th>2</th>\n      <td>7</td>\n      <td>40</td>\n      <td>30</td>\n    </tr>\n  </tbody>\n</table>\n</div>"
     },
     "metadata": {},
     "execution_count": 50
    }
   ],
   "source": [
    "attri_data2 = {'ID':['3','4','7'],\n",
    "               'Math':[60,30,40],\n",
    "               'English':[80,20,30]}\n",
    "\n",
    "attri_data_frame2 = DataFrame(attri_data2)\n",
    "attri_data_frame2"
   ]
  },
  {
   "source": [
    "## Q3"
   ],
   "cell_type": "markdown",
   "metadata": {}
  },
  {
   "cell_type": "code",
   "execution_count": 51,
   "metadata": {},
   "outputs": [
    {
     "output_type": "execute_result",
     "data": {
      "text/plain": [
       "  ID Sex  Money   Name  Math  English\n",
       "0  3   M    500  Candy    60       80\n",
       "1  4   M    300  David    30       20"
      ],
      "text/html": "<div>\n<style scoped>\n    .dataframe tbody tr th:only-of-type {\n        vertical-align: middle;\n    }\n\n    .dataframe tbody tr th {\n        vertical-align: top;\n    }\n\n    .dataframe thead th {\n        text-align: right;\n    }\n</style>\n<table border=\"1\" class=\"dataframe\">\n  <thead>\n    <tr style=\"text-align: right;\">\n      <th></th>\n      <th>ID</th>\n      <th>Sex</th>\n      <th>Money</th>\n      <th>Name</th>\n      <th>Math</th>\n      <th>English</th>\n    </tr>\n  </thead>\n  <tbody>\n    <tr>\n      <th>0</th>\n      <td>3</td>\n      <td>M</td>\n      <td>500</td>\n      <td>Candy</td>\n      <td>60</td>\n      <td>80</td>\n    </tr>\n    <tr>\n      <th>1</th>\n      <td>4</td>\n      <td>M</td>\n      <td>300</td>\n      <td>David</td>\n      <td>30</td>\n      <td>20</td>\n    </tr>\n  </tbody>\n</table>\n</div>"
     },
     "metadata": {},
     "execution_count": 51
    }
   ],
   "source": [
    "# 1061443_李杰穎\n",
    "'''\n",
    "attri_data_frame3 = pd.merge(attri_data_frame1, attri_data_frame2)\n",
    "attri_data_frame3\n",
    "'''"
   ]
  },
  {
   "source": [
    "## Q4"
   ],
   "cell_type": "markdown",
   "metadata": {}
  },
  {
   "cell_type": "code",
   "execution_count": 52,
   "metadata": {},
   "outputs": [
    {
     "output_type": "execute_result",
     "data": {
      "text/plain": [
       "ID          17.0\n",
       "Money      400.0\n",
       "Math        45.0\n",
       "English     50.0\n",
       "dtype: float64"
      ]
     },
     "metadata": {},
     "execution_count": 52
    }
   ],
   "source": [
    "# 1061443_李杰穎\n",
    "'''\n",
    "attri_data_frame3.mean()\n",
    "'''"
   ]
  },
  {
   "source": [
    "# Pandas Advanced"
   ],
   "cell_type": "markdown",
   "metadata": {}
  },
  {
   "cell_type": "code",
   "execution_count": 79,
   "metadata": {},
   "outputs": [
    {
     "output_type": "execute_result",
     "data": {
      "text/plain": [
       "array([  1,   2,   3,   4,   5,   6,   7,   8,   9,  10,  11,  12,  13,\n",
       "        14,  15,  16,  17,  18,  19,  20,  21,  22,  23,  24,  25,  26,\n",
       "        27,  28,  29,  30,  31,  32,  33,  34,  35,  36,  37,  38,  39,\n",
       "        40,  41,  42,  43,  44,  45,  46,  47,  48,  49,  50,  51,  52,\n",
       "        53,  54,  55,  56,  57,  58,  59,  60,  61,  62,  63,  64,  65,\n",
       "        66,  67,  68,  69,  70,  71,  72,  73,  74,  75,  76,  77,  78,\n",
       "        79,  80,  81,  82,  83,  84,  85,  86,  87,  88,  89,  90,  91,\n",
       "        92,  93,  94,  95,  96,  97,  98,  99, 100])"
      ]
     },
     "metadata": {},
     "execution_count": 79
    }
   ],
   "source": [
    "id_arr = np.arange(1, 101)\n",
    "id_arr"
   ]
  },
  {
   "cell_type": "code",
   "execution_count": 63,
   "metadata": {},
   "outputs": [
    {
     "output_type": "stream",
     "name": "stdout",
     "text": [
      "['F', 'M', 'M', 'F', 'F', 'M', 'F', 'M', 'F', 'M', 'F', 'M', 'M', 'M', 'M', 'M', 'M', 'M', 'F', 'F', 'F', 'F', 'M', 'M', 'M', 'F', 'F', 'F', 'M', 'M', 'M', 'F', 'F', 'M', 'F', 'F', 'M', 'M', 'M', 'F', 'F', 'F', 'F', 'M', 'M', 'M', 'M', 'F', 'F', 'F', 'F', 'F', 'F', 'F', 'F', 'M', 'M', 'M', 'M', 'M', 'F', 'F', 'F', 'M', 'F', 'M', 'M', 'M', 'F', 'M', 'M', 'F', 'F', 'F', 'M', 'M', 'M', 'M', 'F', 'F', 'F', 'F', 'M', 'F', 'M', 'F', 'F', 'F', 'F', 'F', 'F', 'F', 'F', 'F', 'F', 'M', 'F', 'M', 'F', 'F']\n"
     ]
    }
   ],
   "source": [
    "np.random.seed(2)\n",
    "array2 = np.random.randint(2, size=100)\n",
    "sex = []\n",
    "for i in array2:\n",
    "    if i == 0: sex.append('F') \n",
    "    else: sex.append('M')\n",
    "print(sex)"
   ]
  },
  {
   "cell_type": "code",
   "execution_count": 67,
   "metadata": {},
   "outputs": [
    {
     "output_type": "stream",
     "name": "stdout",
     "text": [
      "[1017.886 1004.365 1000.965  981.365  997.226  996.452  999.173  993.73\n  999.562  995.228  986.861 1008.846 1008.813 1017.096 1000.5    995.953\n  994.546  984.535 1009.824  988.989  988.15   997.944 1014.861 1002.367\n  989.762  992.87  1006.252  998.395  992.312  997.7   1007.451 1019.761\n  987.559  993.736  991.962  975.809  990.762  989.761 1011.24   998.681\n  983.767 1006.467  996.437  982.569  994.034  994.114  991.261 1000.297\n  977.517  997.322 1010.132 1008.528 1011.082 1011.194 1014.875  988.817\n 1008.458  981.391  993.971  980.855 1010.481 1013.337  998.026 1017.746\n  993.253 1001.506 1001.529  989.358 1004.379 1019.39   989.751 1008.993\n  998.455 1017.696 1004.838 1006.762 1006.432 1002.491  986.042 1013.917\n  986.293 1002.386 1006.141  991.621 1001.451 1011.679  999.759  991.113\n  970.843  990.282  994.089  994.836  990.4   1003.773  994.253  998.905\n 1006.791  991.446  996.998 1021.581]\n"
     ]
    }
   ],
   "source": [
    "np.random.seed(3)\n",
    "money = np.random.normal(1000, 10, size=100)\n",
    "print(money)"
   ]
  },
  {
   "cell_type": "code",
   "execution_count": 80,
   "metadata": {},
   "outputs": [
    {
     "output_type": "execute_result",
     "data": {
      "text/plain": [
       "     ID Sex        Money\n",
       "0     1   F  1017.886285\n",
       "1     2   M  1004.365099\n",
       "2     3   M  1000.964975\n",
       "3     4   F   981.365073\n",
       "4     5   F   997.226118\n",
       "..  ...  ..          ...\n",
       "95   96   M   998.905457\n",
       "96   97   F  1006.790716\n",
       "97   98   M   991.445628\n",
       "98   99   F   996.997939\n",
       "99  100   F  1021.581493\n",
       "\n",
       "[100 rows x 3 columns]"
      ],
      "text/html": "<div>\n<style scoped>\n    .dataframe tbody tr th:only-of-type {\n        vertical-align: middle;\n    }\n\n    .dataframe tbody tr th {\n        vertical-align: top;\n    }\n\n    .dataframe thead th {\n        text-align: right;\n    }\n</style>\n<table border=\"1\" class=\"dataframe\">\n  <thead>\n    <tr style=\"text-align: right;\">\n      <th></th>\n      <th>ID</th>\n      <th>Sex</th>\n      <th>Money</th>\n    </tr>\n  </thead>\n  <tbody>\n    <tr>\n      <th>0</th>\n      <td>1</td>\n      <td>F</td>\n      <td>1017.886285</td>\n    </tr>\n    <tr>\n      <th>1</th>\n      <td>2</td>\n      <td>M</td>\n      <td>1004.365099</td>\n    </tr>\n    <tr>\n      <th>2</th>\n      <td>3</td>\n      <td>M</td>\n      <td>1000.964975</td>\n    </tr>\n    <tr>\n      <th>3</th>\n      <td>4</td>\n      <td>F</td>\n      <td>981.365073</td>\n    </tr>\n    <tr>\n      <th>4</th>\n      <td>5</td>\n      <td>F</td>\n      <td>997.226118</td>\n    </tr>\n    <tr>\n      <th>...</th>\n      <td>...</td>\n      <td>...</td>\n      <td>...</td>\n    </tr>\n    <tr>\n      <th>95</th>\n      <td>96</td>\n      <td>M</td>\n      <td>998.905457</td>\n    </tr>\n    <tr>\n      <th>96</th>\n      <td>97</td>\n      <td>F</td>\n      <td>1006.790716</td>\n    </tr>\n    <tr>\n      <th>97</th>\n      <td>98</td>\n      <td>M</td>\n      <td>991.445628</td>\n    </tr>\n    <tr>\n      <th>98</th>\n      <td>99</td>\n      <td>F</td>\n      <td>996.997939</td>\n    </tr>\n    <tr>\n      <th>99</th>\n      <td>100</td>\n      <td>F</td>\n      <td>1021.581493</td>\n    </tr>\n  </tbody>\n</table>\n<p>100 rows × 3 columns</p>\n</div>"
     },
     "metadata": {},
     "execution_count": 80
    }
   ],
   "source": [
    "data = {\n",
    "    'ID': id_arr,\n",
    "    'Sex': sex,\n",
    "    'Money': money,\n",
    "}\n",
    "data = DataFrame(data)\n",
    "data"
   ]
  },
  {
   "source": [
    "## Q1"
   ],
   "cell_type": "markdown",
   "metadata": {}
  },
  {
   "cell_type": "code",
   "execution_count": 90,
   "metadata": {},
   "outputs": [
    {
     "output_type": "execute_result",
     "data": {
      "text/plain": [
       "    ID Sex       Money\n",
       "88  89   F  970.842622"
      ],
      "text/html": "<div>\n<style scoped>\n    .dataframe tbody tr th:only-of-type {\n        vertical-align: middle;\n    }\n\n    .dataframe tbody tr th {\n        vertical-align: top;\n    }\n\n    .dataframe thead th {\n        text-align: right;\n    }\n</style>\n<table border=\"1\" class=\"dataframe\">\n  <thead>\n    <tr style=\"text-align: right;\">\n      <th></th>\n      <th>ID</th>\n      <th>Sex</th>\n      <th>Money</th>\n    </tr>\n  </thead>\n  <tbody>\n    <tr>\n      <th>88</th>\n      <td>89</td>\n      <td>F</td>\n      <td>970.842622</td>\n    </tr>\n  </tbody>\n</table>\n</div>"
     },
     "metadata": {},
     "execution_count": 90
    }
   ],
   "source": [
    "# 1061443_李杰穎\n",
    "'''\n",
    "data[data['Money'] == data['Money'].min()]\n",
    "'''"
   ]
  },
  {
   "source": [
    "## Q2"
   ],
   "cell_type": "markdown",
   "metadata": {}
  },
  {
   "cell_type": "code",
   "execution_count": 85,
   "metadata": {},
   "outputs": [
    {
     "output_type": "execute_result",
     "data": {
      "text/plain": [
       "     ID Sex        Money\n",
       "0     1   F  1017.886285\n",
       "13   14   M  1017.095731\n",
       "22   23   M  1014.861484\n",
       "31   32   F  1019.761108\n",
       "38   39   M  1011.239780\n",
       "50   51   F  1010.131834\n",
       "52   53   F  1011.081875\n",
       "53   54   F  1011.193907\n",
       "54   55   F  1014.875431\n",
       "60   61   F  1010.481475\n",
       "61   62   F  1013.337378\n",
       "63   64   M  1017.746450\n",
       "69   70   M  1019.389785\n",
       "73   74   F  1017.696273\n",
       "79   80   F  1013.916629\n",
       "85   86   F  1011.678823\n",
       "99  100   F  1021.581493"
      ],
      "text/html": "<div>\n<style scoped>\n    .dataframe tbody tr th:only-of-type {\n        vertical-align: middle;\n    }\n\n    .dataframe tbody tr th {\n        vertical-align: top;\n    }\n\n    .dataframe thead th {\n        text-align: right;\n    }\n</style>\n<table border=\"1\" class=\"dataframe\">\n  <thead>\n    <tr style=\"text-align: right;\">\n      <th></th>\n      <th>ID</th>\n      <th>Sex</th>\n      <th>Money</th>\n    </tr>\n  </thead>\n  <tbody>\n    <tr>\n      <th>0</th>\n      <td>1</td>\n      <td>F</td>\n      <td>1017.886285</td>\n    </tr>\n    <tr>\n      <th>13</th>\n      <td>14</td>\n      <td>M</td>\n      <td>1017.095731</td>\n    </tr>\n    <tr>\n      <th>22</th>\n      <td>23</td>\n      <td>M</td>\n      <td>1014.861484</td>\n    </tr>\n    <tr>\n      <th>31</th>\n      <td>32</td>\n      <td>F</td>\n      <td>1019.761108</td>\n    </tr>\n    <tr>\n      <th>38</th>\n      <td>39</td>\n      <td>M</td>\n      <td>1011.239780</td>\n    </tr>\n    <tr>\n      <th>50</th>\n      <td>51</td>\n      <td>F</td>\n      <td>1010.131834</td>\n    </tr>\n    <tr>\n      <th>52</th>\n      <td>53</td>\n      <td>F</td>\n      <td>1011.081875</td>\n    </tr>\n    <tr>\n      <th>53</th>\n      <td>54</td>\n      <td>F</td>\n      <td>1011.193907</td>\n    </tr>\n    <tr>\n      <th>54</th>\n      <td>55</td>\n      <td>F</td>\n      <td>1014.875431</td>\n    </tr>\n    <tr>\n      <th>60</th>\n      <td>61</td>\n      <td>F</td>\n      <td>1010.481475</td>\n    </tr>\n    <tr>\n      <th>61</th>\n      <td>62</td>\n      <td>F</td>\n      <td>1013.337378</td>\n    </tr>\n    <tr>\n      <th>63</th>\n      <td>64</td>\n      <td>M</td>\n      <td>1017.746450</td>\n    </tr>\n    <tr>\n      <th>69</th>\n      <td>70</td>\n      <td>M</td>\n      <td>1019.389785</td>\n    </tr>\n    <tr>\n      <th>73</th>\n      <td>74</td>\n      <td>F</td>\n      <td>1017.696273</td>\n    </tr>\n    <tr>\n      <th>79</th>\n      <td>80</td>\n      <td>F</td>\n      <td>1013.916629</td>\n    </tr>\n    <tr>\n      <th>85</th>\n      <td>86</td>\n      <td>F</td>\n      <td>1011.678823</td>\n    </tr>\n    <tr>\n      <th>99</th>\n      <td>100</td>\n      <td>F</td>\n      <td>1021.581493</td>\n    </tr>\n  </tbody>\n</table>\n</div>"
     },
     "metadata": {},
     "execution_count": 85
    }
   ],
   "source": [
    "# 1061443_李杰穎\n",
    "'''\n",
    "data[data['Money'] > 1010]\n",
    "'''"
   ]
  },
  {
   "source": [
    "## Q3"
   ],
   "cell_type": "markdown",
   "metadata": {}
  },
  {
   "cell_type": "code",
   "execution_count": 92,
   "metadata": {},
   "outputs": [
    {
     "output_type": "execute_result",
     "data": {
      "text/plain": [
       "     ID Sex        Money\n",
       "99  100   F  1021.581493\n",
       "31   32   F  1019.761108\n",
       "69   70   M  1019.389785\n",
       "0     1   F  1017.886285\n",
       "63   64   M  1017.746450\n",
       "73   74   F  1017.696273\n",
       "13   14   M  1017.095731\n",
       "54   55   F  1014.875431\n",
       "22   23   M  1014.861484\n",
       "79   80   F  1013.916629\n",
       "61   62   F  1013.337378\n",
       "85   86   F  1011.678823\n",
       "38   39   M  1011.239780\n",
       "53   54   F  1011.193907\n",
       "52   53   F  1011.081875\n",
       "60   61   F  1010.481475\n",
       "50   51   F  1010.131834"
      ],
      "text/html": "<div>\n<style scoped>\n    .dataframe tbody tr th:only-of-type {\n        vertical-align: middle;\n    }\n\n    .dataframe tbody tr th {\n        vertical-align: top;\n    }\n\n    .dataframe thead th {\n        text-align: right;\n    }\n</style>\n<table border=\"1\" class=\"dataframe\">\n  <thead>\n    <tr style=\"text-align: right;\">\n      <th></th>\n      <th>ID</th>\n      <th>Sex</th>\n      <th>Money</th>\n    </tr>\n  </thead>\n  <tbody>\n    <tr>\n      <th>99</th>\n      <td>100</td>\n      <td>F</td>\n      <td>1021.581493</td>\n    </tr>\n    <tr>\n      <th>31</th>\n      <td>32</td>\n      <td>F</td>\n      <td>1019.761108</td>\n    </tr>\n    <tr>\n      <th>69</th>\n      <td>70</td>\n      <td>M</td>\n      <td>1019.389785</td>\n    </tr>\n    <tr>\n      <th>0</th>\n      <td>1</td>\n      <td>F</td>\n      <td>1017.886285</td>\n    </tr>\n    <tr>\n      <th>63</th>\n      <td>64</td>\n      <td>M</td>\n      <td>1017.746450</td>\n    </tr>\n    <tr>\n      <th>73</th>\n      <td>74</td>\n      <td>F</td>\n      <td>1017.696273</td>\n    </tr>\n    <tr>\n      <th>13</th>\n      <td>14</td>\n      <td>M</td>\n      <td>1017.095731</td>\n    </tr>\n    <tr>\n      <th>54</th>\n      <td>55</td>\n      <td>F</td>\n      <td>1014.875431</td>\n    </tr>\n    <tr>\n      <th>22</th>\n      <td>23</td>\n      <td>M</td>\n      <td>1014.861484</td>\n    </tr>\n    <tr>\n      <th>79</th>\n      <td>80</td>\n      <td>F</td>\n      <td>1013.916629</td>\n    </tr>\n    <tr>\n      <th>61</th>\n      <td>62</td>\n      <td>F</td>\n      <td>1013.337378</td>\n    </tr>\n    <tr>\n      <th>85</th>\n      <td>86</td>\n      <td>F</td>\n      <td>1011.678823</td>\n    </tr>\n    <tr>\n      <th>38</th>\n      <td>39</td>\n      <td>M</td>\n      <td>1011.239780</td>\n    </tr>\n    <tr>\n      <th>53</th>\n      <td>54</td>\n      <td>F</td>\n      <td>1011.193907</td>\n    </tr>\n    <tr>\n      <th>52</th>\n      <td>53</td>\n      <td>F</td>\n      <td>1011.081875</td>\n    </tr>\n    <tr>\n      <th>60</th>\n      <td>61</td>\n      <td>F</td>\n      <td>1010.481475</td>\n    </tr>\n    <tr>\n      <th>50</th>\n      <td>51</td>\n      <td>F</td>\n      <td>1010.131834</td>\n    </tr>\n  </tbody>\n</table>\n</div>"
     },
     "metadata": {},
     "execution_count": 92
    }
   ],
   "source": [
    "# 1061443_李杰穎\n",
    "'''\n",
    "data[data['Money'] > 1010].sort_values(by='Money', ascending=False)\n",
    "'''"
   ]
  },
  {
   "source": [
    "# Fillna"
   ],
   "cell_type": "markdown",
   "metadata": {}
  },
  {
   "cell_type": "code",
   "execution_count": 107,
   "metadata": {},
   "outputs": [
    {
     "output_type": "execute_result",
     "data": {
      "text/plain": [
       "           0         1         2         3         4         5\n",
       "0   0.548814  0.715189  0.602763  0.544883  0.423655  0.645894\n",
       "1   0.437587  0.891773  0.963663  0.383442  0.791725  0.528895\n",
       "2        NaN  0.925597  0.071036  0.087129  0.020218  0.832620\n",
       "3   0.778157  0.870012  0.978618  0.799159  0.461479  0.780529\n",
       "4   0.118274  0.639921  0.143353  0.944669  0.521848  0.414662\n",
       "5   0.264556  0.774234       NaN  0.568434  0.018790  0.617635\n",
       "6   0.612096  0.616934       NaN  0.681820  0.359508  0.437032\n",
       "7   0.697631  0.060225       NaN       NaN  0.210383  0.128926\n",
       "8   0.315428  0.363711  0.570197       NaN  0.988374  0.102045\n",
       "9   0.208877  0.161310  0.653108  0.253292  0.466311  0.244426\n",
       "10  0.158970  0.110375  0.656330  0.138183  0.196582       NaN\n",
       "11  0.820993  0.097101  0.837945  0.096098  0.976459  0.468651\n",
       "12  0.976761  0.604846  0.739264  0.039188  0.282807  0.120197\n",
       "13  0.296140  0.118728  0.317983  0.414263  0.064147  0.692472\n",
       "14  0.566601  0.265389  0.523248  0.093941  0.575946  0.929296"
      ],
      "text/html": "<div>\n<style scoped>\n    .dataframe tbody tr th:only-of-type {\n        vertical-align: middle;\n    }\n\n    .dataframe tbody tr th {\n        vertical-align: top;\n    }\n\n    .dataframe thead th {\n        text-align: right;\n    }\n</style>\n<table border=\"1\" class=\"dataframe\">\n  <thead>\n    <tr style=\"text-align: right;\">\n      <th></th>\n      <th>0</th>\n      <th>1</th>\n      <th>2</th>\n      <th>3</th>\n      <th>4</th>\n      <th>5</th>\n    </tr>\n  </thead>\n  <tbody>\n    <tr>\n      <th>0</th>\n      <td>0.548814</td>\n      <td>0.715189</td>\n      <td>0.602763</td>\n      <td>0.544883</td>\n      <td>0.423655</td>\n      <td>0.645894</td>\n    </tr>\n    <tr>\n      <th>1</th>\n      <td>0.437587</td>\n      <td>0.891773</td>\n      <td>0.963663</td>\n      <td>0.383442</td>\n      <td>0.791725</td>\n      <td>0.528895</td>\n    </tr>\n    <tr>\n      <th>2</th>\n      <td>NaN</td>\n      <td>0.925597</td>\n      <td>0.071036</td>\n      <td>0.087129</td>\n      <td>0.020218</td>\n      <td>0.832620</td>\n    </tr>\n    <tr>\n      <th>3</th>\n      <td>0.778157</td>\n      <td>0.870012</td>\n      <td>0.978618</td>\n      <td>0.799159</td>\n      <td>0.461479</td>\n      <td>0.780529</td>\n    </tr>\n    <tr>\n      <th>4</th>\n      <td>0.118274</td>\n      <td>0.639921</td>\n      <td>0.143353</td>\n      <td>0.944669</td>\n      <td>0.521848</td>\n      <td>0.414662</td>\n    </tr>\n    <tr>\n      <th>5</th>\n      <td>0.264556</td>\n      <td>0.774234</td>\n      <td>NaN</td>\n      <td>0.568434</td>\n      <td>0.018790</td>\n      <td>0.617635</td>\n    </tr>\n    <tr>\n      <th>6</th>\n      <td>0.612096</td>\n      <td>0.616934</td>\n      <td>NaN</td>\n      <td>0.681820</td>\n      <td>0.359508</td>\n      <td>0.437032</td>\n    </tr>\n    <tr>\n      <th>7</th>\n      <td>0.697631</td>\n      <td>0.060225</td>\n      <td>NaN</td>\n      <td>NaN</td>\n      <td>0.210383</td>\n      <td>0.128926</td>\n    </tr>\n    <tr>\n      <th>8</th>\n      <td>0.315428</td>\n      <td>0.363711</td>\n      <td>0.570197</td>\n      <td>NaN</td>\n      <td>0.988374</td>\n      <td>0.102045</td>\n    </tr>\n    <tr>\n      <th>9</th>\n      <td>0.208877</td>\n      <td>0.161310</td>\n      <td>0.653108</td>\n      <td>0.253292</td>\n      <td>0.466311</td>\n      <td>0.244426</td>\n    </tr>\n    <tr>\n      <th>10</th>\n      <td>0.158970</td>\n      <td>0.110375</td>\n      <td>0.656330</td>\n      <td>0.138183</td>\n      <td>0.196582</td>\n      <td>NaN</td>\n    </tr>\n    <tr>\n      <th>11</th>\n      <td>0.820993</td>\n      <td>0.097101</td>\n      <td>0.837945</td>\n      <td>0.096098</td>\n      <td>0.976459</td>\n      <td>0.468651</td>\n    </tr>\n    <tr>\n      <th>12</th>\n      <td>0.976761</td>\n      <td>0.604846</td>\n      <td>0.739264</td>\n      <td>0.039188</td>\n      <td>0.282807</td>\n      <td>0.120197</td>\n    </tr>\n    <tr>\n      <th>13</th>\n      <td>0.296140</td>\n      <td>0.118728</td>\n      <td>0.317983</td>\n      <td>0.414263</td>\n      <td>0.064147</td>\n      <td>0.692472</td>\n    </tr>\n    <tr>\n      <th>14</th>\n      <td>0.566601</td>\n      <td>0.265389</td>\n      <td>0.523248</td>\n      <td>0.093941</td>\n      <td>0.575946</td>\n      <td>0.929296</td>\n    </tr>\n  </tbody>\n</table>\n</div>"
     },
     "metadata": {},
     "execution_count": 107
    }
   ],
   "source": [
    "from numpy import nan as NA\n",
    "np.random.seed(0)\n",
    "df2 = pd.DataFrame(np.random.rand(15, 6))\n",
    "df2.iloc[2,0] = NA\n",
    "df2.iloc[5:8,2] = NA\n",
    "df2.iloc[7:9,3] = NA\n",
    "df2.iloc[10,5] = NA\n",
    "df2"
   ]
  },
  {
   "source": [
    "## Q1"
   ],
   "cell_type": "markdown",
   "metadata": {}
  },
  {
   "cell_type": "code",
   "execution_count": 101,
   "metadata": {},
   "outputs": [
    {
     "output_type": "execute_result",
     "data": {
      "text/plain": [
       "           0         1         2         3         4         5\n",
       "0   0.548814  0.715189  0.602763  0.544883  0.423655  0.645894\n",
       "1   0.437587  0.891773  0.963663  0.383442  0.791725  0.528895\n",
       "3   0.778157  0.870012  0.978618  0.799159  0.461479  0.780529\n",
       "4   0.118274  0.639921  0.143353  0.944669  0.521848  0.414662\n",
       "9   0.208877  0.161310  0.653108  0.253292  0.466311  0.244426\n",
       "11  0.820993  0.097101  0.837945  0.096098  0.976459  0.468651\n",
       "12  0.976761  0.604846  0.739264  0.039188  0.282807  0.120197\n",
       "13  0.296140  0.118728  0.317983  0.414263  0.064147  0.692472\n",
       "14  0.566601  0.265389  0.523248  0.093941  0.575946  0.929296"
      ],
      "text/html": "<div>\n<style scoped>\n    .dataframe tbody tr th:only-of-type {\n        vertical-align: middle;\n    }\n\n    .dataframe tbody tr th {\n        vertical-align: top;\n    }\n\n    .dataframe thead th {\n        text-align: right;\n    }\n</style>\n<table border=\"1\" class=\"dataframe\">\n  <thead>\n    <tr style=\"text-align: right;\">\n      <th></th>\n      <th>0</th>\n      <th>1</th>\n      <th>2</th>\n      <th>3</th>\n      <th>4</th>\n      <th>5</th>\n    </tr>\n  </thead>\n  <tbody>\n    <tr>\n      <th>0</th>\n      <td>0.548814</td>\n      <td>0.715189</td>\n      <td>0.602763</td>\n      <td>0.544883</td>\n      <td>0.423655</td>\n      <td>0.645894</td>\n    </tr>\n    <tr>\n      <th>1</th>\n      <td>0.437587</td>\n      <td>0.891773</td>\n      <td>0.963663</td>\n      <td>0.383442</td>\n      <td>0.791725</td>\n      <td>0.528895</td>\n    </tr>\n    <tr>\n      <th>3</th>\n      <td>0.778157</td>\n      <td>0.870012</td>\n      <td>0.978618</td>\n      <td>0.799159</td>\n      <td>0.461479</td>\n      <td>0.780529</td>\n    </tr>\n    <tr>\n      <th>4</th>\n      <td>0.118274</td>\n      <td>0.639921</td>\n      <td>0.143353</td>\n      <td>0.944669</td>\n      <td>0.521848</td>\n      <td>0.414662</td>\n    </tr>\n    <tr>\n      <th>9</th>\n      <td>0.208877</td>\n      <td>0.161310</td>\n      <td>0.653108</td>\n      <td>0.253292</td>\n      <td>0.466311</td>\n      <td>0.244426</td>\n    </tr>\n    <tr>\n      <th>11</th>\n      <td>0.820993</td>\n      <td>0.097101</td>\n      <td>0.837945</td>\n      <td>0.096098</td>\n      <td>0.976459</td>\n      <td>0.468651</td>\n    </tr>\n    <tr>\n      <th>12</th>\n      <td>0.976761</td>\n      <td>0.604846</td>\n      <td>0.739264</td>\n      <td>0.039188</td>\n      <td>0.282807</td>\n      <td>0.120197</td>\n    </tr>\n    <tr>\n      <th>13</th>\n      <td>0.296140</td>\n      <td>0.118728</td>\n      <td>0.317983</td>\n      <td>0.414263</td>\n      <td>0.064147</td>\n      <td>0.692472</td>\n    </tr>\n    <tr>\n      <th>14</th>\n      <td>0.566601</td>\n      <td>0.265389</td>\n      <td>0.523248</td>\n      <td>0.093941</td>\n      <td>0.575946</td>\n      <td>0.929296</td>\n    </tr>\n  </tbody>\n</table>\n</div>"
     },
     "metadata": {},
     "execution_count": 101
    }
   ],
   "source": [
    "# 1061443_李杰穎\n",
    "'''\n",
    "df2.dropna()\n",
    "'''"
   ]
  },
  {
   "source": [
    "## Q2"
   ],
   "cell_type": "markdown",
   "metadata": {}
  },
  {
   "cell_type": "code",
   "execution_count": 103,
   "metadata": {},
   "outputs": [
    {
     "output_type": "execute_result",
     "data": {
      "text/plain": [
       "           0         1         2         3         4         5\n",
       "0   0.548814  0.715189  0.602763  0.544883  0.423655  0.645894\n",
       "1   0.437587  0.891773  0.963663  0.383442  0.791725  0.528895\n",
       "2   0.000000  0.925597  0.071036  0.087129  0.020218  0.832620\n",
       "3   0.778157  0.870012  0.978618  0.799159  0.461479  0.780529\n",
       "4   0.118274  0.639921  0.143353  0.944669  0.521848  0.414662\n",
       "5   0.264556  0.774234  0.000000  0.568434  0.018790  0.617635\n",
       "6   0.612096  0.616934  0.000000  0.681820  0.359508  0.437032\n",
       "7   0.697631  0.060225  0.000000  0.000000  0.210383  0.128926\n",
       "8   0.315428  0.363711  0.570197  0.000000  0.988374  0.102045\n",
       "9   0.208877  0.161310  0.653108  0.253292  0.466311  0.244426\n",
       "10  0.158970  0.110375  0.656330  0.138183  0.196582  0.000000\n",
       "11  0.820993  0.097101  0.837945  0.096098  0.976459  0.468651\n",
       "12  0.976761  0.604846  0.739264  0.039188  0.282807  0.120197\n",
       "13  0.296140  0.118728  0.317983  0.414263  0.064147  0.692472\n",
       "14  0.566601  0.265389  0.523248  0.093941  0.575946  0.929296"
      ],
      "text/html": "<div>\n<style scoped>\n    .dataframe tbody tr th:only-of-type {\n        vertical-align: middle;\n    }\n\n    .dataframe tbody tr th {\n        vertical-align: top;\n    }\n\n    .dataframe thead th {\n        text-align: right;\n    }\n</style>\n<table border=\"1\" class=\"dataframe\">\n  <thead>\n    <tr style=\"text-align: right;\">\n      <th></th>\n      <th>0</th>\n      <th>1</th>\n      <th>2</th>\n      <th>3</th>\n      <th>4</th>\n      <th>5</th>\n    </tr>\n  </thead>\n  <tbody>\n    <tr>\n      <th>0</th>\n      <td>0.548814</td>\n      <td>0.715189</td>\n      <td>0.602763</td>\n      <td>0.544883</td>\n      <td>0.423655</td>\n      <td>0.645894</td>\n    </tr>\n    <tr>\n      <th>1</th>\n      <td>0.437587</td>\n      <td>0.891773</td>\n      <td>0.963663</td>\n      <td>0.383442</td>\n      <td>0.791725</td>\n      <td>0.528895</td>\n    </tr>\n    <tr>\n      <th>2</th>\n      <td>0.000000</td>\n      <td>0.925597</td>\n      <td>0.071036</td>\n      <td>0.087129</td>\n      <td>0.020218</td>\n      <td>0.832620</td>\n    </tr>\n    <tr>\n      <th>3</th>\n      <td>0.778157</td>\n      <td>0.870012</td>\n      <td>0.978618</td>\n      <td>0.799159</td>\n      <td>0.461479</td>\n      <td>0.780529</td>\n    </tr>\n    <tr>\n      <th>4</th>\n      <td>0.118274</td>\n      <td>0.639921</td>\n      <td>0.143353</td>\n      <td>0.944669</td>\n      <td>0.521848</td>\n      <td>0.414662</td>\n    </tr>\n    <tr>\n      <th>5</th>\n      <td>0.264556</td>\n      <td>0.774234</td>\n      <td>0.000000</td>\n      <td>0.568434</td>\n      <td>0.018790</td>\n      <td>0.617635</td>\n    </tr>\n    <tr>\n      <th>6</th>\n      <td>0.612096</td>\n      <td>0.616934</td>\n      <td>0.000000</td>\n      <td>0.681820</td>\n      <td>0.359508</td>\n      <td>0.437032</td>\n    </tr>\n    <tr>\n      <th>7</th>\n      <td>0.697631</td>\n      <td>0.060225</td>\n      <td>0.000000</td>\n      <td>0.000000</td>\n      <td>0.210383</td>\n      <td>0.128926</td>\n    </tr>\n    <tr>\n      <th>8</th>\n      <td>0.315428</td>\n      <td>0.363711</td>\n      <td>0.570197</td>\n      <td>0.000000</td>\n      <td>0.988374</td>\n      <td>0.102045</td>\n    </tr>\n    <tr>\n      <th>9</th>\n      <td>0.208877</td>\n      <td>0.161310</td>\n      <td>0.653108</td>\n      <td>0.253292</td>\n      <td>0.466311</td>\n      <td>0.244426</td>\n    </tr>\n    <tr>\n      <th>10</th>\n      <td>0.158970</td>\n      <td>0.110375</td>\n      <td>0.656330</td>\n      <td>0.138183</td>\n      <td>0.196582</td>\n      <td>0.000000</td>\n    </tr>\n    <tr>\n      <th>11</th>\n      <td>0.820993</td>\n      <td>0.097101</td>\n      <td>0.837945</td>\n      <td>0.096098</td>\n      <td>0.976459</td>\n      <td>0.468651</td>\n    </tr>\n    <tr>\n      <th>12</th>\n      <td>0.976761</td>\n      <td>0.604846</td>\n      <td>0.739264</td>\n      <td>0.039188</td>\n      <td>0.282807</td>\n      <td>0.120197</td>\n    </tr>\n    <tr>\n      <th>13</th>\n      <td>0.296140</td>\n      <td>0.118728</td>\n      <td>0.317983</td>\n      <td>0.414263</td>\n      <td>0.064147</td>\n      <td>0.692472</td>\n    </tr>\n    <tr>\n      <th>14</th>\n      <td>0.566601</td>\n      <td>0.265389</td>\n      <td>0.523248</td>\n      <td>0.093941</td>\n      <td>0.575946</td>\n      <td>0.929296</td>\n    </tr>\n  </tbody>\n</table>\n</div>"
     },
     "metadata": {},
     "execution_count": 103
    }
   ],
   "source": [
    "# 1061443_李杰穎\n",
    "'''\n",
    "df2.fillna(0)\n",
    "'''"
   ]
  },
  {
   "source": [
    "## Q3"
   ],
   "cell_type": "markdown",
   "metadata": {}
  },
  {
   "cell_type": "code",
   "execution_count": 109,
   "metadata": {},
   "outputs": [
    {
     "output_type": "execute_result",
     "data": {
      "text/plain": [
       "           0         1         2         3         4         5\n",
       "0   0.548814  0.715189  0.602763  0.544883  0.423655  0.645894\n",
       "1   0.437587  0.891773  0.963663  0.383442  0.791725  0.528895\n",
       "2   0.485778  0.925597  0.071036  0.087129  0.020218  0.832620\n",
       "3   0.778157  0.870012  0.978618  0.799159  0.461479  0.780529\n",
       "4   0.118274  0.639921  0.143353  0.944669  0.521848  0.414662\n",
       "5   0.264556  0.774234  0.588126  0.568434  0.018790  0.617635\n",
       "6   0.612096  0.616934  0.588126  0.681820  0.359508  0.437032\n",
       "7   0.697631  0.060225  0.588126  0.388038  0.210383  0.128926\n",
       "8   0.315428  0.363711  0.570197  0.388038  0.988374  0.102045\n",
       "9   0.208877  0.161310  0.653108  0.253292  0.466311  0.244426\n",
       "10  0.158970  0.110375  0.656330  0.138183  0.196582  0.495949\n",
       "11  0.820993  0.097101  0.837945  0.096098  0.976459  0.468651\n",
       "12  0.976761  0.604846  0.739264  0.039188  0.282807  0.120197\n",
       "13  0.296140  0.118728  0.317983  0.414263  0.064147  0.692472\n",
       "14  0.566601  0.265389  0.523248  0.093941  0.575946  0.929296"
      ],
      "text/html": "<div>\n<style scoped>\n    .dataframe tbody tr th:only-of-type {\n        vertical-align: middle;\n    }\n\n    .dataframe tbody tr th {\n        vertical-align: top;\n    }\n\n    .dataframe thead th {\n        text-align: right;\n    }\n</style>\n<table border=\"1\" class=\"dataframe\">\n  <thead>\n    <tr style=\"text-align: right;\">\n      <th></th>\n      <th>0</th>\n      <th>1</th>\n      <th>2</th>\n      <th>3</th>\n      <th>4</th>\n      <th>5</th>\n    </tr>\n  </thead>\n  <tbody>\n    <tr>\n      <th>0</th>\n      <td>0.548814</td>\n      <td>0.715189</td>\n      <td>0.602763</td>\n      <td>0.544883</td>\n      <td>0.423655</td>\n      <td>0.645894</td>\n    </tr>\n    <tr>\n      <th>1</th>\n      <td>0.437587</td>\n      <td>0.891773</td>\n      <td>0.963663</td>\n      <td>0.383442</td>\n      <td>0.791725</td>\n      <td>0.528895</td>\n    </tr>\n    <tr>\n      <th>2</th>\n      <td>0.485778</td>\n      <td>0.925597</td>\n      <td>0.071036</td>\n      <td>0.087129</td>\n      <td>0.020218</td>\n      <td>0.832620</td>\n    </tr>\n    <tr>\n      <th>3</th>\n      <td>0.778157</td>\n      <td>0.870012</td>\n      <td>0.978618</td>\n      <td>0.799159</td>\n      <td>0.461479</td>\n      <td>0.780529</td>\n    </tr>\n    <tr>\n      <th>4</th>\n      <td>0.118274</td>\n      <td>0.639921</td>\n      <td>0.143353</td>\n      <td>0.944669</td>\n      <td>0.521848</td>\n      <td>0.414662</td>\n    </tr>\n    <tr>\n      <th>5</th>\n      <td>0.264556</td>\n      <td>0.774234</td>\n      <td>0.588126</td>\n      <td>0.568434</td>\n      <td>0.018790</td>\n      <td>0.617635</td>\n    </tr>\n    <tr>\n      <th>6</th>\n      <td>0.612096</td>\n      <td>0.616934</td>\n      <td>0.588126</td>\n      <td>0.681820</td>\n      <td>0.359508</td>\n      <td>0.437032</td>\n    </tr>\n    <tr>\n      <th>7</th>\n      <td>0.697631</td>\n      <td>0.060225</td>\n      <td>0.588126</td>\n      <td>0.388038</td>\n      <td>0.210383</td>\n      <td>0.128926</td>\n    </tr>\n    <tr>\n      <th>8</th>\n      <td>0.315428</td>\n      <td>0.363711</td>\n      <td>0.570197</td>\n      <td>0.388038</td>\n      <td>0.988374</td>\n      <td>0.102045</td>\n    </tr>\n    <tr>\n      <th>9</th>\n      <td>0.208877</td>\n      <td>0.161310</td>\n      <td>0.653108</td>\n      <td>0.253292</td>\n      <td>0.466311</td>\n      <td>0.244426</td>\n    </tr>\n    <tr>\n      <th>10</th>\n      <td>0.158970</td>\n      <td>0.110375</td>\n      <td>0.656330</td>\n      <td>0.138183</td>\n      <td>0.196582</td>\n      <td>0.495949</td>\n    </tr>\n    <tr>\n      <th>11</th>\n      <td>0.820993</td>\n      <td>0.097101</td>\n      <td>0.837945</td>\n      <td>0.096098</td>\n      <td>0.976459</td>\n      <td>0.468651</td>\n    </tr>\n    <tr>\n      <th>12</th>\n      <td>0.976761</td>\n      <td>0.604846</td>\n      <td>0.739264</td>\n      <td>0.039188</td>\n      <td>0.282807</td>\n      <td>0.120197</td>\n    </tr>\n    <tr>\n      <th>13</th>\n      <td>0.296140</td>\n      <td>0.118728</td>\n      <td>0.317983</td>\n      <td>0.414263</td>\n      <td>0.064147</td>\n      <td>0.692472</td>\n    </tr>\n    <tr>\n      <th>14</th>\n      <td>0.566601</td>\n      <td>0.265389</td>\n      <td>0.523248</td>\n      <td>0.093941</td>\n      <td>0.575946</td>\n      <td>0.929296</td>\n    </tr>\n  </tbody>\n</table>\n</div>"
     },
     "metadata": {},
     "execution_count": 109
    }
   ],
   "source": [
    "# 1061443_李杰穎\n",
    "'''\n",
    "df2[0] = df2[0].fillna(df2[0].mean())\n",
    "df2[1] = df2[1].fillna(df2[1].mean())\n",
    "df2[2] = df2[2].fillna(df2[2].mean())\n",
    "df2[3] = df2[3].fillna(df2[3].mean())\n",
    "df2[4] = df2[4].fillna(df2[4].mean())\n",
    "df2[5] = df2[5].fillna(df2[5].mean())\n",
    "df2\n",
    "'''"
   ]
  }
 ]
}