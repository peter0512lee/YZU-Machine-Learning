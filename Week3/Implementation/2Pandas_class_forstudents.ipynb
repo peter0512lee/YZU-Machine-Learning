{
 "cells": [
  {
   "cell_type": "code",
   "execution_count": 2,
   "metadata": {},
   "outputs": [],
   "source": [
    "import pandas as pd"
   ]
  },
  {
   "cell_type": "code",
   "execution_count": 3,
   "metadata": {},
   "outputs": [],
   "source": [
    "from pandas import Series, DataFrame"
   ]
  },
  {
   "cell_type": "markdown",
   "metadata": {},
   "source": [
    "# Series"
   ]
  },
  {
   "cell_type": "code",
   "execution_count": 4,
   "metadata": {},
   "outputs": [
    {
     "output_type": "stream",
     "name": "stdout",
     "text": [
      "0     0\n1    10\n2    20\n3    30\n4    40\n5    50\n6    60\n7    70\n8    80\n9    90\ndtype: int64\n"
     ]
    }
   ],
   "source": [
    "sample_pandas_data = pd.Series([0,10,20,30,40,50,60,70,80,90])\n",
    "print(sample_pandas_data)"
   ]
  },
  {
   "cell_type": "code",
   "execution_count": 6,
   "metadata": {},
   "outputs": [
    {
     "output_type": "stream",
     "name": "stdout",
     "text": [
      "資料值: [ 0 10 20 30 40 50 60 70 80 90]\n索引值: RangeIndex(start=0, stop=10, step=1)\n"
     ]
    }
   ],
   "source": [
    "#印出資料值\n",
    "print('資料值:', sample_pandas_data.values)\n",
    "#印出索引值\n",
    "print('索引值:', sample_pandas_data.index)"
   ]
  },
  {
   "cell_type": "markdown",
   "metadata": {},
   "source": [
    "# Specify index in Series"
   ]
  },
  {
   "cell_type": "code",
   "execution_count": 8,
   "metadata": {},
   "outputs": [
    {
     "output_type": "stream",
     "name": "stdout",
     "text": [
      "a     0\nb    10\nc    20\nd    30\ne    40\nf    50\ng    60\nh    70\ni    80\nj    90\ndtype: int64\n"
     ]
    }
   ],
   "source": [
    "sample_pandas_index_data = pd.Series(\n",
    "    [0, 10,20,30,40,50,60,70,80,90],\n",
    "    #輸入自訂的文字index\n",
    "    index=['a', 'b', 'c', 'd', 'e', 'f', 'g', 'h', 'i', 'j']\n",
    ")\n",
    "print(sample_pandas_index_data)"
   ]
  },
  {
   "cell_type": "code",
   "execution_count": 9,
   "metadata": {},
   "outputs": [
    {
     "output_type": "stream",
     "name": "stdout",
     "text": [
      "資料值: [ 0 10 20 30 40 50 60 70 80 90]\n索引值: Index(['a', 'b', 'c', 'd', 'e', 'f', 'g', 'h', 'i', 'j'], dtype='object')\n"
     ]
    }
   ],
   "source": [
    "print('資料值:', sample_pandas_index_data.values)\n",
    "print('索引值:', sample_pandas_index_data.index)"
   ]
  },
  {
   "cell_type": "markdown",
   "metadata": {},
   "source": [
    "# DataFrame"
   ]
  },
  {
   "cell_type": "code",
   "execution_count": 10,
   "metadata": {},
   "outputs": [
    {
     "output_type": "stream",
     "name": "stdout",
     "text": [
      "    ID       City  Birth_year    Name\n0  100     Taipei        1990   Sally\n1  101     Taipei        1989   Hanks\n2  102    Hsinchu        1992  Hannah\n3  103     Tainan        1997   Kitty\n4  104  Kaohsiung        1982   Steve\n"
     ]
    }
   ],
   "source": [
    "attri_data1 = {'ID':['100','101','102','103','104'],\n",
    "               'City':['Taipei','Taipei','Hsinchu','Tainan','Kaohsiung'],\n",
    "               'Birth_year':[1990,1989,1992,1997,1982],\n",
    "               'Name':['Sally','Hanks','Hannah','Kitty','Steve']}\n",
    "\n",
    "attri_data_frame1 = DataFrame(attri_data1)\n",
    "\n",
    "print(attri_data_frame1)"
   ]
  },
  {
   "cell_type": "markdown",
   "metadata": {},
   "source": [
    "# Specify Index in DataFrame"
   ]
  },
  {
   "cell_type": "code",
   "execution_count": 11,
   "metadata": {},
   "outputs": [
    {
     "output_type": "stream",
     "name": "stdout",
     "text": [
      "    ID       City  Birth_year    Name\na  100     Taipei        1990   Sally\nb  101     Taipei        1989   Hanks\nc  102    Hsinchu        1992  Hannah\nd  103     Tainan        1997   Kitty\ne  104  Kaohsiung        1982   Steve\n"
     ]
    }
   ],
   "source": [
    "attri_data_frame_index1 = DataFrame(attri_data1,index=['a','b','c','d','e'])\n",
    "print(attri_data_frame_index1)"
   ]
  },
  {
   "cell_type": "code",
   "execution_count": 12,
   "metadata": {},
   "outputs": [
    {
     "output_type": "execute_result",
     "data": {
      "text/plain": [
       "    ID       City  Birth_year    Name\n",
       "a  100     Taipei        1990   Sally\n",
       "b  101     Taipei        1989   Hanks\n",
       "c  102    Hsinchu        1992  Hannah\n",
       "d  103     Tainan        1997   Kitty\n",
       "e  104  Kaohsiung        1982   Steve"
      ],
      "text/html": "<div>\n<style scoped>\n    .dataframe tbody tr th:only-of-type {\n        vertical-align: middle;\n    }\n\n    .dataframe tbody tr th {\n        vertical-align: top;\n    }\n\n    .dataframe thead th {\n        text-align: right;\n    }\n</style>\n<table border=\"1\" class=\"dataframe\">\n  <thead>\n    <tr style=\"text-align: right;\">\n      <th></th>\n      <th>ID</th>\n      <th>City</th>\n      <th>Birth_year</th>\n      <th>Name</th>\n    </tr>\n  </thead>\n  <tbody>\n    <tr>\n      <th>a</th>\n      <td>100</td>\n      <td>Taipei</td>\n      <td>1990</td>\n      <td>Sally</td>\n    </tr>\n    <tr>\n      <th>b</th>\n      <td>101</td>\n      <td>Taipei</td>\n      <td>1989</td>\n      <td>Hanks</td>\n    </tr>\n    <tr>\n      <th>c</th>\n      <td>102</td>\n      <td>Hsinchu</td>\n      <td>1992</td>\n      <td>Hannah</td>\n    </tr>\n    <tr>\n      <th>d</th>\n      <td>103</td>\n      <td>Tainan</td>\n      <td>1997</td>\n      <td>Kitty</td>\n    </tr>\n    <tr>\n      <th>e</th>\n      <td>104</td>\n      <td>Kaohsiung</td>\n      <td>1982</td>\n      <td>Steve</td>\n    </tr>\n  </tbody>\n</table>\n</div>"
     },
     "metadata": {},
     "execution_count": 12
    }
   ],
   "source": [
    "attri_data_frame_index1"
   ]
  },
  {
   "cell_type": "markdown",
   "metadata": {},
   "source": [
    "# Transpose"
   ]
  },
  {
   "cell_type": "code",
   "execution_count": 13,
   "metadata": {},
   "outputs": [
    {
     "output_type": "execute_result",
     "data": {
      "text/plain": [
       "                 a       b        c       d          e\n",
       "ID             100     101      102     103        104\n",
       "City        Taipei  Taipei  Hsinchu  Tainan  Kaohsiung\n",
       "Birth_year    1990    1989     1992    1997       1982\n",
       "Name         Sally   Hanks   Hannah   Kitty      Steve"
      ],
      "text/html": "<div>\n<style scoped>\n    .dataframe tbody tr th:only-of-type {\n        vertical-align: middle;\n    }\n\n    .dataframe tbody tr th {\n        vertical-align: top;\n    }\n\n    .dataframe thead th {\n        text-align: right;\n    }\n</style>\n<table border=\"1\" class=\"dataframe\">\n  <thead>\n    <tr style=\"text-align: right;\">\n      <th></th>\n      <th>a</th>\n      <th>b</th>\n      <th>c</th>\n      <th>d</th>\n      <th>e</th>\n    </tr>\n  </thead>\n  <tbody>\n    <tr>\n      <th>ID</th>\n      <td>100</td>\n      <td>101</td>\n      <td>102</td>\n      <td>103</td>\n      <td>104</td>\n    </tr>\n    <tr>\n      <th>City</th>\n      <td>Taipei</td>\n      <td>Taipei</td>\n      <td>Hsinchu</td>\n      <td>Tainan</td>\n      <td>Kaohsiung</td>\n    </tr>\n    <tr>\n      <th>Birth_year</th>\n      <td>1990</td>\n      <td>1989</td>\n      <td>1992</td>\n      <td>1997</td>\n      <td>1982</td>\n    </tr>\n    <tr>\n      <th>Name</th>\n      <td>Sally</td>\n      <td>Hanks</td>\n      <td>Hannah</td>\n      <td>Kitty</td>\n      <td>Steve</td>\n    </tr>\n  </tbody>\n</table>\n</div>"
     },
     "metadata": {},
     "execution_count": 13
    }
   ],
   "source": [
    "#attri_data_frame1的行列交換\n",
    "attri_data_frame_index1.T"
   ]
  },
  {
   "cell_type": "markdown",
   "metadata": {},
   "source": [
    "# Get One Column"
   ]
  },
  {
   "cell_type": "code",
   "execution_count": 14,
   "metadata": {},
   "outputs": [
    {
     "output_type": "execute_result",
     "data": {
      "text/plain": [
       "a    1990\n",
       "b    1989\n",
       "c    1992\n",
       "d    1997\n",
       "e    1982\n",
       "Name: Birth_year, dtype: int64"
      ]
     },
     "metadata": {},
     "execution_count": 14
    }
   ],
   "source": [
    "#取得Birth_year行\n",
    "attri_data_frame_index1.Birth_year"
   ]
  },
  {
   "cell_type": "markdown",
   "metadata": {},
   "source": [
    "# Get Many Column"
   ]
  },
  {
   "cell_type": "code",
   "execution_count": 20,
   "metadata": {},
   "outputs": [
    {
     "output_type": "execute_result",
     "data": {
      "text/plain": [
       "    ID  Birth_year\n",
       "a  100        1990\n",
       "b  101        1989\n",
       "c  102        1992\n",
       "d  103        1997\n",
       "e  104        1982"
      ],
      "text/html": "<div>\n<style scoped>\n    .dataframe tbody tr th:only-of-type {\n        vertical-align: middle;\n    }\n\n    .dataframe tbody tr th {\n        vertical-align: top;\n    }\n\n    .dataframe thead th {\n        text-align: right;\n    }\n</style>\n<table border=\"1\" class=\"dataframe\">\n  <thead>\n    <tr style=\"text-align: right;\">\n      <th></th>\n      <th>ID</th>\n      <th>Birth_year</th>\n    </tr>\n  </thead>\n  <tbody>\n    <tr>\n      <th>a</th>\n      <td>100</td>\n      <td>1990</td>\n    </tr>\n    <tr>\n      <th>b</th>\n      <td>101</td>\n      <td>1989</td>\n    </tr>\n    <tr>\n      <th>c</th>\n      <td>102</td>\n      <td>1992</td>\n    </tr>\n    <tr>\n      <th>d</th>\n      <td>103</td>\n      <td>1997</td>\n    </tr>\n    <tr>\n      <th>e</th>\n      <td>104</td>\n      <td>1982</td>\n    </tr>\n  </tbody>\n</table>\n</div>"
     },
     "metadata": {},
     "execution_count": 20
    }
   ],
   "source": [
    "#取得ID與Birth_year行\n",
    "attri_data_frame_index1[['ID', 'Birth_year']]"
   ]
  },
  {
   "cell_type": "markdown",
   "metadata": {},
   "source": [
    "# Filter"
   ]
  },
  {
   "cell_type": "code",
   "execution_count": 22,
   "metadata": {},
   "outputs": [
    {
     "output_type": "execute_result",
     "data": {
      "text/plain": [
       "    ID    City  Birth_year   Name\n",
       "0  100  Taipei        1990  Sally\n",
       "1  101  Taipei        1989  Hanks"
      ],
      "text/html": "<div>\n<style scoped>\n    .dataframe tbody tr th:only-of-type {\n        vertical-align: middle;\n    }\n\n    .dataframe tbody tr th {\n        vertical-align: top;\n    }\n\n    .dataframe thead th {\n        text-align: right;\n    }\n</style>\n<table border=\"1\" class=\"dataframe\">\n  <thead>\n    <tr style=\"text-align: right;\">\n      <th></th>\n      <th>ID</th>\n      <th>City</th>\n      <th>Birth_year</th>\n      <th>Name</th>\n    </tr>\n  </thead>\n  <tbody>\n    <tr>\n      <th>0</th>\n      <td>100</td>\n      <td>Taipei</td>\n      <td>1990</td>\n      <td>Sally</td>\n    </tr>\n    <tr>\n      <th>1</th>\n      <td>101</td>\n      <td>Taipei</td>\n      <td>1989</td>\n      <td>Hanks</td>\n    </tr>\n  </tbody>\n</table>\n</div>"
     },
     "metadata": {},
     "execution_count": 22
    }
   ],
   "source": [
    "# attri_data_frame1中找出City為Taipei的資料\n",
    "attri_data_frame1[attri_data_frame1['City'] == 'Taipei']"
   ]
  },
  {
   "cell_type": "code",
   "execution_count": 21,
   "metadata": {},
   "outputs": [
    {
     "output_type": "execute_result",
     "data": {
      "text/plain": [
       "0     True\n",
       "1     True\n",
       "2    False\n",
       "3    False\n",
       "4    False\n",
       "Name: City, dtype: bool"
      ]
     },
     "metadata": {},
     "execution_count": 21
    }
   ],
   "source": [
    "attri_data_frame1['City'] == 'Taipei'"
   ]
  },
  {
   "cell_type": "markdown",
   "metadata": {},
   "source": [
    "# Filter for Many Requiements"
   ]
  },
  {
   "cell_type": "code",
   "execution_count": 23,
   "metadata": {},
   "outputs": [
    {
     "output_type": "execute_result",
     "data": {
      "text/plain": [
       "    ID    City  Birth_year   Name\n",
       "0  100  Taipei        1990  Sally\n",
       "1  101  Taipei        1989  Hanks\n",
       "3  103  Tainan        1997  Kitty"
      ],
      "text/html": "<div>\n<style scoped>\n    .dataframe tbody tr th:only-of-type {\n        vertical-align: middle;\n    }\n\n    .dataframe tbody tr th {\n        vertical-align: top;\n    }\n\n    .dataframe thead th {\n        text-align: right;\n    }\n</style>\n<table border=\"1\" class=\"dataframe\">\n  <thead>\n    <tr style=\"text-align: right;\">\n      <th></th>\n      <th>ID</th>\n      <th>City</th>\n      <th>Birth_year</th>\n      <th>Name</th>\n    </tr>\n  </thead>\n  <tbody>\n    <tr>\n      <th>0</th>\n      <td>100</td>\n      <td>Taipei</td>\n      <td>1990</td>\n      <td>Sally</td>\n    </tr>\n    <tr>\n      <th>1</th>\n      <td>101</td>\n      <td>Taipei</td>\n      <td>1989</td>\n      <td>Hanks</td>\n    </tr>\n    <tr>\n      <th>3</th>\n      <td>103</td>\n      <td>Tainan</td>\n      <td>1997</td>\n      <td>Kitty</td>\n    </tr>\n  </tbody>\n</table>\n</div>"
     },
     "metadata": {},
     "execution_count": 23
    }
   ],
   "source": [
    "#attri_data_frame1中找出City為台北和台南的資料\n",
    "attri_data_frame1[attri_data_frame1['City'].isin(['Taipei','Tainan'])]"
   ]
  },
  {
   "cell_type": "markdown",
   "metadata": {},
   "source": [
    "# Pratice"
   ]
  },
  {
   "cell_type": "code",
   "execution_count": 25,
   "metadata": {},
   "outputs": [
    {
     "output_type": "execute_result",
     "data": {
      "text/plain": [
       "    ID       City  Birth_year   Name\n",
       "1  101     Taipei        1989  Hanks\n",
       "4  104  Kaohsiung        1982  Steve"
      ],
      "text/html": "<div>\n<style scoped>\n    .dataframe tbody tr th:only-of-type {\n        vertical-align: middle;\n    }\n\n    .dataframe tbody tr th {\n        vertical-align: top;\n    }\n\n    .dataframe thead th {\n        text-align: right;\n    }\n</style>\n<table border=\"1\" class=\"dataframe\">\n  <thead>\n    <tr style=\"text-align: right;\">\n      <th></th>\n      <th>ID</th>\n      <th>City</th>\n      <th>Birth_year</th>\n      <th>Name</th>\n    </tr>\n  </thead>\n  <tbody>\n    <tr>\n      <th>1</th>\n      <td>101</td>\n      <td>Taipei</td>\n      <td>1989</td>\n      <td>Hanks</td>\n    </tr>\n    <tr>\n      <th>4</th>\n      <td>104</td>\n      <td>Kaohsiung</td>\n      <td>1982</td>\n      <td>Steve</td>\n    </tr>\n  </tbody>\n</table>\n</div>"
     },
     "metadata": {},
     "execution_count": 25
    }
   ],
   "source": [
    "#找出attri_data_frame1的Birth_year小於1990\n",
    "attri_data_frame1[attri_data_frame1['Birth_year'] < 1990]"
   ]
  },
  {
   "cell_type": "markdown",
   "metadata": {},
   "source": [
    "# Drop Column"
   ]
  },
  {
   "cell_type": "code",
   "execution_count": 26,
   "metadata": {},
   "outputs": [
    {
     "output_type": "execute_result",
     "data": {
      "text/plain": [
       "    ID       City    Name\n",
       "0  100     Taipei   Sally\n",
       "1  101     Taipei   Hanks\n",
       "2  102    Hsinchu  Hannah\n",
       "3  103     Tainan   Kitty\n",
       "4  104  Kaohsiung   Steve"
      ],
      "text/html": "<div>\n<style scoped>\n    .dataframe tbody tr th:only-of-type {\n        vertical-align: middle;\n    }\n\n    .dataframe tbody tr th {\n        vertical-align: top;\n    }\n\n    .dataframe thead th {\n        text-align: right;\n    }\n</style>\n<table border=\"1\" class=\"dataframe\">\n  <thead>\n    <tr style=\"text-align: right;\">\n      <th></th>\n      <th>ID</th>\n      <th>City</th>\n      <th>Name</th>\n    </tr>\n  </thead>\n  <tbody>\n    <tr>\n      <th>0</th>\n      <td>100</td>\n      <td>Taipei</td>\n      <td>Sally</td>\n    </tr>\n    <tr>\n      <th>1</th>\n      <td>101</td>\n      <td>Taipei</td>\n      <td>Hanks</td>\n    </tr>\n    <tr>\n      <th>2</th>\n      <td>102</td>\n      <td>Hsinchu</td>\n      <td>Hannah</td>\n    </tr>\n    <tr>\n      <th>3</th>\n      <td>103</td>\n      <td>Tainan</td>\n      <td>Kitty</td>\n    </tr>\n    <tr>\n      <th>4</th>\n      <td>104</td>\n      <td>Kaohsiung</td>\n      <td>Steve</td>\n    </tr>\n  </tbody>\n</table>\n</div>"
     },
     "metadata": {},
     "execution_count": 26
    }
   ],
   "source": [
    "#去掉Birth_year這一行\n",
    "attri_data_frame1.drop(['Birth_year'], axis = 1)"
   ]
  },
  {
   "cell_type": "code",
   "execution_count": 27,
   "metadata": {},
   "outputs": [
    {
     "output_type": "stream",
     "name": "stdout",
     "text": [
      "    ID       City  Birth_year    Name\n0  100     Taipei        1990   Sally\n1  101     Taipei        1989   Hanks\n2  102    Hsinchu        1992  Hannah\n3  103     Tainan        1997   Kitty\n4  104  Kaohsiung        1982   Steve\n    ID       City  Birth_year    Name\n0  100     Taipei        1990   Sally\n1  101     Taipei        1989   Hanks\n2  102    Hsinchu        1992  Hannah\n3  103     Tainan        1997   Kitty\n4  104  Kaohsiung        1982   Steve\n    ID       City    Name\n0  100     Taipei   Sally\n1  101     Taipei   Hanks\n2  102    Hsinchu  Hannah\n3  103     Tainan   Kitty\n4  104  Kaohsiung   Steve\n"
     ]
    }
   ],
   "source": [
    "attri_data1 = {'ID':['100','101','102','103','104'],\n",
    "               'City':['Taipei','Taipei','Hsinchu','Tainan','Kaohsiung'],\n",
    "               'Birth_year':[1990,1989,1992,1997,1982],\n",
    "               'Name':['Sally','Hanks','Hannah','Kitty','Steve']}\n",
    "\n",
    "\n",
    "attri_data_frame1 = DataFrame(attri_data1)\n",
    "print(attri_data_frame1)\n",
    "\n",
    "attri_data_frame1.drop(['Birth_year'], axis = 1)\n",
    "print(attri_data_frame1)\n",
    "\n",
    "#使用assign，使得attri_data_frame1的資料中真正拿掉Birth_year行\n",
    "attri_data_frame1 = attri_data_frame1.drop(['Birth_year'], axis = 1)\n",
    "print(attri_data_frame1)"
   ]
  },
  {
   "cell_type": "markdown",
   "metadata": {},
   "source": [
    "# Combine DataFrame"
   ]
  },
  {
   "cell_type": "code",
   "execution_count": 28,
   "metadata": {},
   "outputs": [
    {
     "output_type": "stream",
     "name": "stdout",
     "text": [
      "    ID       City  Birth_year    Name\n0  100     Taipei        1990   Sally\n1  101     Taipei        1989   Hanks\n2  102    Hsinchu        1992  Hannah\n3  103     Tainan        1997   Kitty\n4  104  Kaohsiung        1982   Steve\n    ID  Math  English Sex\n0  100    50       90   M\n1  101    43       30   F\n2  102    33       20   F\n3  105    76       50   M\n4  107    98       30   M\n"
     ]
    }
   ],
   "source": [
    "#準備資料\n",
    "attri_data1 = {'ID':['100','101','102','103','104'],\n",
    "               'City':['Taipei','Taipei','Hsinchu','Tainan','Kaohsiung'],\n",
    "               'Birth_year':[1990,1989,1992,1997,1982],\n",
    "               'Name':['Sally','Hanks','Hannah','Kitty','Steve']}\n",
    "attri_data_frame1 = DataFrame(attri_data1)\n",
    "print(attri_data_frame1)\n",
    "\n",
    "\n",
    "attri_data2 = {'ID':['100','101','102','105','107'],\n",
    "               'Math':[50,43,33,76,98],\n",
    "               'English':[90,30,20,50,30],\n",
    "               'Sex':['M','F','F','M','M']}\n",
    "attri_data_frame2 = DataFrame(attri_data2)\n",
    "print(attri_data_frame2)"
   ]
  },
  {
   "cell_type": "code",
   "execution_count": 29,
   "metadata": {},
   "outputs": [
    {
     "output_type": "execute_result",
     "data": {
      "text/plain": [
       "    ID     City  Birth_year    Name  Math  English Sex\n",
       "0  100   Taipei        1990   Sally    50       90   M\n",
       "1  101   Taipei        1989   Hanks    43       30   F\n",
       "2  102  Hsinchu        1992  Hannah    33       20   F"
      ],
      "text/html": "<div>\n<style scoped>\n    .dataframe tbody tr th:only-of-type {\n        vertical-align: middle;\n    }\n\n    .dataframe tbody tr th {\n        vertical-align: top;\n    }\n\n    .dataframe thead th {\n        text-align: right;\n    }\n</style>\n<table border=\"1\" class=\"dataframe\">\n  <thead>\n    <tr style=\"text-align: right;\">\n      <th></th>\n      <th>ID</th>\n      <th>City</th>\n      <th>Birth_year</th>\n      <th>Name</th>\n      <th>Math</th>\n      <th>English</th>\n      <th>Sex</th>\n    </tr>\n  </thead>\n  <tbody>\n    <tr>\n      <th>0</th>\n      <td>100</td>\n      <td>Taipei</td>\n      <td>1990</td>\n      <td>Sally</td>\n      <td>50</td>\n      <td>90</td>\n      <td>M</td>\n    </tr>\n    <tr>\n      <th>1</th>\n      <td>101</td>\n      <td>Taipei</td>\n      <td>1989</td>\n      <td>Hanks</td>\n      <td>43</td>\n      <td>30</td>\n      <td>F</td>\n    </tr>\n    <tr>\n      <th>2</th>\n      <td>102</td>\n      <td>Hsinchu</td>\n      <td>1992</td>\n      <td>Hannah</td>\n      <td>33</td>\n      <td>20</td>\n      <td>F</td>\n    </tr>\n  </tbody>\n</table>\n</div>"
     },
     "metadata": {},
     "execution_count": 29
    }
   ],
   "source": [
    "#合併資料\n",
    "pd.merge(attri_data_frame1, attri_data_frame2)"
   ]
  },
  {
   "cell_type": "markdown",
   "metadata": {},
   "source": [
    "# Statistics"
   ]
  },
  {
   "cell_type": "code",
   "execution_count": 30,
   "metadata": {},
   "outputs": [
    {
     "output_type": "execute_result",
     "data": {
      "text/plain": [
       "Sex\n",
       "F    38.000000\n",
       "M    74.666667\n",
       "Name: Math, dtype: float64"
      ]
     },
     "metadata": {},
     "execution_count": 30
    }
   ],
   "source": [
    "#將「Sex」的行設為基準來計算出數學成績的平均分數\n",
    "attri_data_frame2.groupby('Sex')['Math'].mean()"
   ]
  },
  {
   "cell_type": "markdown",
   "metadata": {},
   "source": [
    "# Practice"
   ]
  },
  {
   "cell_type": "code",
   "execution_count": 33,
   "metadata": {},
   "outputs": [
    {
     "output_type": "stream",
     "name": "stdout",
     "text": [
      "Sex\nF    30\nM    90\nName: English, dtype: int64\n"
     ]
    },
    {
     "output_type": "execute_result",
     "data": {
      "text/plain": [
       "Sex\n",
       "F    20\n",
       "M    30\n",
       "Name: English, dtype: int64"
      ]
     },
     "metadata": {},
     "execution_count": 33
    }
   ],
   "source": [
    "#將「Sex」的行設為基準來計算出英文成績的最大值與最小值。\n",
    "print(attri_data_frame2.groupby('Sex')['English'].max())\n",
    "attri_data_frame2.groupby('Sex')['English'].min()"
   ]
  },
  {
   "cell_type": "markdown",
   "metadata": {},
   "source": [
    "# Sort"
   ]
  },
  {
   "cell_type": "code",
   "execution_count": 34,
   "metadata": {},
   "outputs": [
    {
     "output_type": "execute_result",
     "data": {
      "text/plain": [
       "    ID       City  Birth_year    Name\n",
       "e  100     Taipei        1990   Sally\n",
       "b  101     Taipei        1989   Hanks\n",
       "a  102    Hsinchu        1992  Hannah\n",
       "d  103     Tainan        1997   Kitty\n",
       "c  104  Kaohsiung        1982   Steve"
      ],
      "text/html": "<div>\n<style scoped>\n    .dataframe tbody tr th:only-of-type {\n        vertical-align: middle;\n    }\n\n    .dataframe tbody tr th {\n        vertical-align: top;\n    }\n\n    .dataframe thead th {\n        text-align: right;\n    }\n</style>\n<table border=\"1\" class=\"dataframe\">\n  <thead>\n    <tr style=\"text-align: right;\">\n      <th></th>\n      <th>ID</th>\n      <th>City</th>\n      <th>Birth_year</th>\n      <th>Name</th>\n    </tr>\n  </thead>\n  <tbody>\n    <tr>\n      <th>e</th>\n      <td>100</td>\n      <td>Taipei</td>\n      <td>1990</td>\n      <td>Sally</td>\n    </tr>\n    <tr>\n      <th>b</th>\n      <td>101</td>\n      <td>Taipei</td>\n      <td>1989</td>\n      <td>Hanks</td>\n    </tr>\n    <tr>\n      <th>a</th>\n      <td>102</td>\n      <td>Hsinchu</td>\n      <td>1992</td>\n      <td>Hannah</td>\n    </tr>\n    <tr>\n      <th>d</th>\n      <td>103</td>\n      <td>Tainan</td>\n      <td>1997</td>\n      <td>Kitty</td>\n    </tr>\n    <tr>\n      <th>c</th>\n      <td>104</td>\n      <td>Kaohsiung</td>\n      <td>1982</td>\n      <td>Steve</td>\n    </tr>\n  </tbody>\n</table>\n</div>"
     },
     "metadata": {},
     "execution_count": 34
    }
   ],
   "source": [
    "#準備資料\n",
    "attri_data2 = {'ID':['100','101','102','103','104'],\n",
    "               'City':['Taipei','Taipei','Hsinchu','Tainan','Kaohsiung'],\n",
    "               'Birth_year':[1990,1989,1992,1997,1982],\n",
    "               'Name':['Sally','Hanks','Hannah','Kitty','Steve']}\n",
    "attri_data_frame_index2 = DataFrame(attri_data2,index=['e','b','a','d','c'])\n",
    "attri_data_frame_index2"
   ]
  },
  {
   "cell_type": "code",
   "execution_count": 35,
   "metadata": {},
   "outputs": [
    {
     "output_type": "execute_result",
     "data": {
      "text/plain": [
       "    ID       City  Birth_year    Name\n",
       "a  102    Hsinchu        1992  Hannah\n",
       "b  101     Taipei        1989   Hanks\n",
       "c  104  Kaohsiung        1982   Steve\n",
       "d  103     Tainan        1997   Kitty\n",
       "e  100     Taipei        1990   Sally"
      ],
      "text/html": "<div>\n<style scoped>\n    .dataframe tbody tr th:only-of-type {\n        vertical-align: middle;\n    }\n\n    .dataframe tbody tr th {\n        vertical-align: top;\n    }\n\n    .dataframe thead th {\n        text-align: right;\n    }\n</style>\n<table border=\"1\" class=\"dataframe\">\n  <thead>\n    <tr style=\"text-align: right;\">\n      <th></th>\n      <th>ID</th>\n      <th>City</th>\n      <th>Birth_year</th>\n      <th>Name</th>\n    </tr>\n  </thead>\n  <tbody>\n    <tr>\n      <th>a</th>\n      <td>102</td>\n      <td>Hsinchu</td>\n      <td>1992</td>\n      <td>Hannah</td>\n    </tr>\n    <tr>\n      <th>b</th>\n      <td>101</td>\n      <td>Taipei</td>\n      <td>1989</td>\n      <td>Hanks</td>\n    </tr>\n    <tr>\n      <th>c</th>\n      <td>104</td>\n      <td>Kaohsiung</td>\n      <td>1982</td>\n      <td>Steve</td>\n    </tr>\n    <tr>\n      <th>d</th>\n      <td>103</td>\n      <td>Tainan</td>\n      <td>1997</td>\n      <td>Kitty</td>\n    </tr>\n    <tr>\n      <th>e</th>\n      <td>100</td>\n      <td>Taipei</td>\n      <td>1990</td>\n      <td>Sally</td>\n    </tr>\n  </tbody>\n</table>\n</div>"
     },
     "metadata": {},
     "execution_count": 35
    }
   ],
   "source": [
    "#sort by index\n",
    "attri_data_frame_index2.sort_index()"
   ]
  },
  {
   "cell_type": "code",
   "execution_count": 36,
   "metadata": {},
   "outputs": [
    {
     "output_type": "execute_result",
     "data": {
      "text/plain": [
       "c    1982\n",
       "b    1989\n",
       "e    1990\n",
       "a    1992\n",
       "d    1997\n",
       "Name: Birth_year, dtype: int64"
      ]
     },
     "metadata": {},
     "execution_count": 36
    }
   ],
   "source": [
    "#sort by values\n",
    "attri_data_frame_index2.Birth_year.sort_values()"
   ]
  },
  {
   "cell_type": "markdown",
   "metadata": {},
   "source": [
    "# Check nan"
   ]
  },
  {
   "cell_type": "code",
   "execution_count": 37,
   "metadata": {},
   "outputs": [
    {
     "output_type": "execute_result",
     "data": {
      "text/plain": [
       "      ID   City  Birth_year   Name\n",
       "e  False   True       False  False\n",
       "b  False   True       False  False\n",
       "a  False  False       False  False\n",
       "d  False  False       False  False\n",
       "c  False  False       False  False"
      ],
      "text/html": "<div>\n<style scoped>\n    .dataframe tbody tr th:only-of-type {\n        vertical-align: middle;\n    }\n\n    .dataframe tbody tr th {\n        vertical-align: top;\n    }\n\n    .dataframe thead th {\n        text-align: right;\n    }\n</style>\n<table border=\"1\" class=\"dataframe\">\n  <thead>\n    <tr style=\"text-align: right;\">\n      <th></th>\n      <th>ID</th>\n      <th>City</th>\n      <th>Birth_year</th>\n      <th>Name</th>\n    </tr>\n  </thead>\n  <tbody>\n    <tr>\n      <th>e</th>\n      <td>False</td>\n      <td>True</td>\n      <td>False</td>\n      <td>False</td>\n    </tr>\n    <tr>\n      <th>b</th>\n      <td>False</td>\n      <td>True</td>\n      <td>False</td>\n      <td>False</td>\n    </tr>\n    <tr>\n      <th>a</th>\n      <td>False</td>\n      <td>False</td>\n      <td>False</td>\n      <td>False</td>\n    </tr>\n    <tr>\n      <th>d</th>\n      <td>False</td>\n      <td>False</td>\n      <td>False</td>\n      <td>False</td>\n    </tr>\n    <tr>\n      <th>c</th>\n      <td>False</td>\n      <td>False</td>\n      <td>False</td>\n      <td>False</td>\n    </tr>\n  </tbody>\n</table>\n</div>"
     },
     "metadata": {},
     "execution_count": 37
    }
   ],
   "source": [
    "#確認是否存在該值\n",
    "attri_data_frame_index2.isin(['Taipei'])"
   ]
  },
  {
   "cell_type": "code",
   "execution_count": 38,
   "metadata": {},
   "outputs": [
    {
     "output_type": "execute_result",
     "data": {
      "text/plain": [
       "      ID   City  Birth_year  Name\n",
       "e  False  False       False  True\n",
       "b  False  False       False  True\n",
       "a  False  False       False  True\n",
       "d  False  False       False  True\n",
       "c  False  False       False  True"
      ],
      "text/html": "<div>\n<style scoped>\n    .dataframe tbody tr th:only-of-type {\n        vertical-align: middle;\n    }\n\n    .dataframe tbody tr th {\n        vertical-align: top;\n    }\n\n    .dataframe thead th {\n        text-align: right;\n    }\n</style>\n<table border=\"1\" class=\"dataframe\">\n  <thead>\n    <tr style=\"text-align: right;\">\n      <th></th>\n      <th>ID</th>\n      <th>City</th>\n      <th>Birth_year</th>\n      <th>Name</th>\n    </tr>\n  </thead>\n  <tbody>\n    <tr>\n      <th>e</th>\n      <td>False</td>\n      <td>False</td>\n      <td>False</td>\n      <td>True</td>\n    </tr>\n    <tr>\n      <th>b</th>\n      <td>False</td>\n      <td>False</td>\n      <td>False</td>\n      <td>True</td>\n    </tr>\n    <tr>\n      <th>a</th>\n      <td>False</td>\n      <td>False</td>\n      <td>False</td>\n      <td>True</td>\n    </tr>\n    <tr>\n      <th>d</th>\n      <td>False</td>\n      <td>False</td>\n      <td>False</td>\n      <td>True</td>\n    </tr>\n    <tr>\n      <th>c</th>\n      <td>False</td>\n      <td>False</td>\n      <td>False</td>\n      <td>True</td>\n    </tr>\n  </tbody>\n</table>\n</div>"
     },
     "metadata": {},
     "execution_count": 38
    }
   ],
   "source": [
    "# 處理遺漏值\n",
    "# 將Name設成nan\n",
    "import numpy as np\n",
    "attri_data_frame_index2['Name'] = np.nan\n",
    "\n",
    "#判斷是否為nan\n",
    "attri_data_frame_index2.isnull()"
   ]
  },
  {
   "cell_type": "code",
   "execution_count": 39,
   "metadata": {},
   "outputs": [
    {
     "output_type": "execute_result",
     "data": {
      "text/plain": [
       "ID            0\n",
       "City          0\n",
       "Birth_year    0\n",
       "Name          5\n",
       "dtype: int64"
      ]
     },
     "metadata": {},
     "execution_count": 39
    }
   ],
   "source": [
    "#計算nan的總數\n",
    "attri_data_frame_index2.isnull().sum()"
   ]
  },
  {
   "cell_type": "markdown",
   "metadata": {},
   "source": [
    "# Practice 1"
   ]
  },
  {
   "cell_type": "code",
   "execution_count": 49,
   "metadata": {},
   "outputs": [
    {
     "output_type": "execute_result",
     "data": {
      "text/plain": [
       "  ID Sex  Money   Name\n",
       "0  1   F   1000  Alice\n",
       "1  2   F   2000    Bob\n",
       "2  3   M    500  Candy\n",
       "3  4   M    300  David\n",
       "4  5   F    700   Ella"
      ],
      "text/html": "<div>\n<style scoped>\n    .dataframe tbody tr th:only-of-type {\n        vertical-align: middle;\n    }\n\n    .dataframe tbody tr th {\n        vertical-align: top;\n    }\n\n    .dataframe thead th {\n        text-align: right;\n    }\n</style>\n<table border=\"1\" class=\"dataframe\">\n  <thead>\n    <tr style=\"text-align: right;\">\n      <th></th>\n      <th>ID</th>\n      <th>Sex</th>\n      <th>Money</th>\n      <th>Name</th>\n    </tr>\n  </thead>\n  <tbody>\n    <tr>\n      <th>0</th>\n      <td>1</td>\n      <td>F</td>\n      <td>1000</td>\n      <td>Alice</td>\n    </tr>\n    <tr>\n      <th>1</th>\n      <td>2</td>\n      <td>F</td>\n      <td>2000</td>\n      <td>Bob</td>\n    </tr>\n    <tr>\n      <th>2</th>\n      <td>3</td>\n      <td>M</td>\n      <td>500</td>\n      <td>Candy</td>\n    </tr>\n    <tr>\n      <th>3</th>\n      <td>4</td>\n      <td>M</td>\n      <td>300</td>\n      <td>David</td>\n    </tr>\n    <tr>\n      <th>4</th>\n      <td>5</td>\n      <td>F</td>\n      <td>700</td>\n      <td>Ella</td>\n    </tr>\n  </tbody>\n</table>\n</div>"
     },
     "metadata": {},
     "execution_count": 49
    }
   ],
   "source": [
    "from pandas import Series,DataFrame\n",
    "import pandas as pd\n",
    "\n",
    "attri_data1 = {'ID':['1','2','3','4','5'],\n",
    "               'Sex':['F','F','M','M','F'],\n",
    "               'Money':[1000,2000,500,300,700],\n",
    "               'Name':['Alice','Bob','Candy','David','Ella']}\n",
    "\n",
    "attri_data_frame1 = DataFrame(attri_data1)\n",
    "attri_data_frame1"
   ]
  },
  {
   "cell_type": "code",
   "execution_count": 50,
   "metadata": {},
   "outputs": [
    {
     "output_type": "execute_result",
     "data": {
      "text/plain": [
       "  ID Sex  Money   Name\n",
       "0  1   F   1000  Alice\n",
       "1  2   F   2000    Bob\n",
       "2  3   M    500  Candy\n",
       "4  5   F    700   Ella"
      ],
      "text/html": "<div>\n<style scoped>\n    .dataframe tbody tr th:only-of-type {\n        vertical-align: middle;\n    }\n\n    .dataframe tbody tr th {\n        vertical-align: top;\n    }\n\n    .dataframe thead th {\n        text-align: right;\n    }\n</style>\n<table border=\"1\" class=\"dataframe\">\n  <thead>\n    <tr style=\"text-align: right;\">\n      <th></th>\n      <th>ID</th>\n      <th>Sex</th>\n      <th>Money</th>\n      <th>Name</th>\n    </tr>\n  </thead>\n  <tbody>\n    <tr>\n      <th>0</th>\n      <td>1</td>\n      <td>F</td>\n      <td>1000</td>\n      <td>Alice</td>\n    </tr>\n    <tr>\n      <th>1</th>\n      <td>2</td>\n      <td>F</td>\n      <td>2000</td>\n      <td>Bob</td>\n    </tr>\n    <tr>\n      <th>2</th>\n      <td>3</td>\n      <td>M</td>\n      <td>500</td>\n      <td>Candy</td>\n    </tr>\n    <tr>\n      <th>4</th>\n      <td>5</td>\n      <td>F</td>\n      <td>700</td>\n      <td>Ella</td>\n    </tr>\n  </tbody>\n</table>\n</div>"
     },
     "metadata": {},
     "execution_count": 50
    }
   ],
   "source": [
    "attri_data_frame1[attri_data_frame1['Money'] >= 500]"
   ]
  },
  {
   "cell_type": "code",
   "execution_count": 53,
   "metadata": {},
   "outputs": [
    {
     "output_type": "execute_result",
     "data": {
      "text/plain": [
       "Sex\n",
       "F    1233.333333\n",
       "M     400.000000\n",
       "Name: Money, dtype: float64"
      ]
     },
     "metadata": {},
     "execution_count": 53
    }
   ],
   "source": [
    "attri_data_frame1.groupby('Sex')['Money'].mean()"
   ]
  },
  {
   "cell_type": "code",
   "execution_count": 55,
   "metadata": {},
   "outputs": [
    {
     "output_type": "execute_result",
     "data": {
      "text/plain": [
       "  ID  Math  English\n",
       "0  3    60       80\n",
       "1  4    30       20\n",
       "2  7    40       30"
      ],
      "text/html": "<div>\n<style scoped>\n    .dataframe tbody tr th:only-of-type {\n        vertical-align: middle;\n    }\n\n    .dataframe tbody tr th {\n        vertical-align: top;\n    }\n\n    .dataframe thead th {\n        text-align: right;\n    }\n</style>\n<table border=\"1\" class=\"dataframe\">\n  <thead>\n    <tr style=\"text-align: right;\">\n      <th></th>\n      <th>ID</th>\n      <th>Math</th>\n      <th>English</th>\n    </tr>\n  </thead>\n  <tbody>\n    <tr>\n      <th>0</th>\n      <td>3</td>\n      <td>60</td>\n      <td>80</td>\n    </tr>\n    <tr>\n      <th>1</th>\n      <td>4</td>\n      <td>30</td>\n      <td>20</td>\n    </tr>\n    <tr>\n      <th>2</th>\n      <td>7</td>\n      <td>40</td>\n      <td>30</td>\n    </tr>\n  </tbody>\n</table>\n</div>"
     },
     "metadata": {},
     "execution_count": 55
    }
   ],
   "source": [
    "attri_data2 = {'ID':['3','4','7'],\n",
    "               'Math':[60,30,40],\n",
    "               'English':[80,20,30]}\n",
    "\n",
    "attri_data_frame2 = DataFrame(attri_data2)\n",
    "attri_data_frame2"
   ]
  },
  {
   "cell_type": "code",
   "execution_count": 59,
   "metadata": {},
   "outputs": [
    {
     "output_type": "execute_result",
     "data": {
      "text/plain": [
       "  ID Sex  Money   Name  Math  English\n",
       "0  3   M    500  Candy    60       80\n",
       "1  4   M    300  David    30       20"
      ],
      "text/html": "<div>\n<style scoped>\n    .dataframe tbody tr th:only-of-type {\n        vertical-align: middle;\n    }\n\n    .dataframe tbody tr th {\n        vertical-align: top;\n    }\n\n    .dataframe thead th {\n        text-align: right;\n    }\n</style>\n<table border=\"1\" class=\"dataframe\">\n  <thead>\n    <tr style=\"text-align: right;\">\n      <th></th>\n      <th>ID</th>\n      <th>Sex</th>\n      <th>Money</th>\n      <th>Name</th>\n      <th>Math</th>\n      <th>English</th>\n    </tr>\n  </thead>\n  <tbody>\n    <tr>\n      <th>0</th>\n      <td>3</td>\n      <td>M</td>\n      <td>500</td>\n      <td>Candy</td>\n      <td>60</td>\n      <td>80</td>\n    </tr>\n    <tr>\n      <th>1</th>\n      <td>4</td>\n      <td>M</td>\n      <td>300</td>\n      <td>David</td>\n      <td>30</td>\n      <td>20</td>\n    </tr>\n  </tbody>\n</table>\n</div>"
     },
     "metadata": {},
     "execution_count": 59
    }
   ],
   "source": [
    "attri_data_frame3 = pd.merge(attri_data_frame1, attri_data_frame2)\n",
    "attri_data_frame3"
   ]
  },
  {
   "cell_type": "code",
   "execution_count": 62,
   "metadata": {},
   "outputs": [
    {
     "output_type": "execute_result",
     "data": {
      "text/plain": [
       "ID          17.0\n",
       "Money      400.0\n",
       "Math        45.0\n",
       "English     50.0\n",
       "dtype: float64"
      ]
     },
     "metadata": {},
     "execution_count": 62
    }
   ],
   "source": [
    "attri_data_frame3.mean()"
   ]
  }
 ],
 "metadata": {
  "kernelspec": {
   "name": "python3",
   "display_name": "Python 3.9.1 64-bit",
   "metadata": {
    "interpreter": {
     "hash": "ac2eaa0ea0ebeafcc7822e65e46aa9d4f966f30b695406963e145ea4a91cd4fc"
    }
   }
  },
  "language_info": {
   "codemirror_mode": {
    "name": "ipython",
    "version": 3
   },
   "file_extension": ".py",
   "mimetype": "text/x-python",
   "name": "python",
   "nbconvert_exporter": "python",
   "pygments_lexer": "ipython3",
   "version": "3.9.1-final"
  }
 },
 "nbformat": 4,
 "nbformat_minor": 4
}