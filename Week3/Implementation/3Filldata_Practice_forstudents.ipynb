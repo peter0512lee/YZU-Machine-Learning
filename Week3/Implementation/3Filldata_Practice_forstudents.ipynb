{
 "cells": [
  {
   "cell_type": "markdown",
   "metadata": {},
   "source": [
    "# Practice"
   ]
  },
  {
   "cell_type": "code",
   "execution_count": 1,
   "metadata": {},
   "outputs": [
    {
     "output_type": "execute_result",
     "data": {
      "text/plain": [
       "           0         1         2         3         4         5\n",
       "0   0.548814  0.715189  0.602763  0.544883  0.423655  0.645894\n",
       "1   0.437587  0.891773  0.963663  0.383442  0.791725  0.528895\n",
       "2        NaN  0.925597  0.071036  0.087129  0.020218  0.832620\n",
       "3   0.778157  0.870012  0.978618  0.799159  0.461479  0.780529\n",
       "4   0.118274  0.639921  0.143353  0.944669  0.521848  0.414662\n",
       "5   0.264556  0.774234       NaN  0.568434  0.018790  0.617635\n",
       "6   0.612096  0.616934       NaN  0.681820  0.359508  0.437032\n",
       "7   0.697631  0.060225       NaN       NaN  0.210383  0.128926\n",
       "8   0.315428  0.363711  0.570197       NaN  0.988374  0.102045\n",
       "9   0.208877  0.161310  0.653108  0.253292  0.466311  0.244426\n",
       "10  0.158970  0.110375  0.656330  0.138183  0.196582       NaN\n",
       "11  0.820993  0.097101  0.837945  0.096098  0.976459  0.468651\n",
       "12  0.976761  0.604846  0.739264  0.039188  0.282807  0.120197\n",
       "13  0.296140  0.118728  0.317983  0.414263  0.064147  0.692472\n",
       "14  0.566601  0.265389  0.523248  0.093941  0.575946  0.929296"
      ],
      "text/html": "<div>\n<style scoped>\n    .dataframe tbody tr th:only-of-type {\n        vertical-align: middle;\n    }\n\n    .dataframe tbody tr th {\n        vertical-align: top;\n    }\n\n    .dataframe thead th {\n        text-align: right;\n    }\n</style>\n<table border=\"1\" class=\"dataframe\">\n  <thead>\n    <tr style=\"text-align: right;\">\n      <th></th>\n      <th>0</th>\n      <th>1</th>\n      <th>2</th>\n      <th>3</th>\n      <th>4</th>\n      <th>5</th>\n    </tr>\n  </thead>\n  <tbody>\n    <tr>\n      <th>0</th>\n      <td>0.548814</td>\n      <td>0.715189</td>\n      <td>0.602763</td>\n      <td>0.544883</td>\n      <td>0.423655</td>\n      <td>0.645894</td>\n    </tr>\n    <tr>\n      <th>1</th>\n      <td>0.437587</td>\n      <td>0.891773</td>\n      <td>0.963663</td>\n      <td>0.383442</td>\n      <td>0.791725</td>\n      <td>0.528895</td>\n    </tr>\n    <tr>\n      <th>2</th>\n      <td>NaN</td>\n      <td>0.925597</td>\n      <td>0.071036</td>\n      <td>0.087129</td>\n      <td>0.020218</td>\n      <td>0.832620</td>\n    </tr>\n    <tr>\n      <th>3</th>\n      <td>0.778157</td>\n      <td>0.870012</td>\n      <td>0.978618</td>\n      <td>0.799159</td>\n      <td>0.461479</td>\n      <td>0.780529</td>\n    </tr>\n    <tr>\n      <th>4</th>\n      <td>0.118274</td>\n      <td>0.639921</td>\n      <td>0.143353</td>\n      <td>0.944669</td>\n      <td>0.521848</td>\n      <td>0.414662</td>\n    </tr>\n    <tr>\n      <th>5</th>\n      <td>0.264556</td>\n      <td>0.774234</td>\n      <td>NaN</td>\n      <td>0.568434</td>\n      <td>0.018790</td>\n      <td>0.617635</td>\n    </tr>\n    <tr>\n      <th>6</th>\n      <td>0.612096</td>\n      <td>0.616934</td>\n      <td>NaN</td>\n      <td>0.681820</td>\n      <td>0.359508</td>\n      <td>0.437032</td>\n    </tr>\n    <tr>\n      <th>7</th>\n      <td>0.697631</td>\n      <td>0.060225</td>\n      <td>NaN</td>\n      <td>NaN</td>\n      <td>0.210383</td>\n      <td>0.128926</td>\n    </tr>\n    <tr>\n      <th>8</th>\n      <td>0.315428</td>\n      <td>0.363711</td>\n      <td>0.570197</td>\n      <td>NaN</td>\n      <td>0.988374</td>\n      <td>0.102045</td>\n    </tr>\n    <tr>\n      <th>9</th>\n      <td>0.208877</td>\n      <td>0.161310</td>\n      <td>0.653108</td>\n      <td>0.253292</td>\n      <td>0.466311</td>\n      <td>0.244426</td>\n    </tr>\n    <tr>\n      <th>10</th>\n      <td>0.158970</td>\n      <td>0.110375</td>\n      <td>0.656330</td>\n      <td>0.138183</td>\n      <td>0.196582</td>\n      <td>NaN</td>\n    </tr>\n    <tr>\n      <th>11</th>\n      <td>0.820993</td>\n      <td>0.097101</td>\n      <td>0.837945</td>\n      <td>0.096098</td>\n      <td>0.976459</td>\n      <td>0.468651</td>\n    </tr>\n    <tr>\n      <th>12</th>\n      <td>0.976761</td>\n      <td>0.604846</td>\n      <td>0.739264</td>\n      <td>0.039188</td>\n      <td>0.282807</td>\n      <td>0.120197</td>\n    </tr>\n    <tr>\n      <th>13</th>\n      <td>0.296140</td>\n      <td>0.118728</td>\n      <td>0.317983</td>\n      <td>0.414263</td>\n      <td>0.064147</td>\n      <td>0.692472</td>\n    </tr>\n    <tr>\n      <th>14</th>\n      <td>0.566601</td>\n      <td>0.265389</td>\n      <td>0.523248</td>\n      <td>0.093941</td>\n      <td>0.575946</td>\n      <td>0.929296</td>\n    </tr>\n  </tbody>\n</table>\n</div>"
     },
     "metadata": {},
     "execution_count": 1
    }
   ],
   "source": [
    "import numpy as np\n",
    "from numpy import nan as NA\n",
    "import pandas as pd\n",
    "import numpy.random as random\n",
    "\n",
    "random.seed(0)\n",
    "df2 = pd.DataFrame(np.random.rand(15, 6))\n",
    "\n",
    "df2.iloc[2,0] = NA\n",
    "df2.iloc[5:8,2] = NA\n",
    "df2.iloc[7:9,3] = NA\n",
    "df2.iloc[10,5] = NA\n",
    "\n",
    "\n",
    "df2"
   ]
  }
 ],
 "metadata": {
  "kernelspec": {
   "name": "python3",
   "display_name": "Python 3.9.1 64-bit",
   "metadata": {
    "interpreter": {
     "hash": "ac2eaa0ea0ebeafcc7822e65e46aa9d4f966f30b695406963e145ea4a91cd4fc"
    }
   }
  },
  "language_info": {
   "codemirror_mode": {
    "name": "ipython",
    "version": 3
   },
   "file_extension": ".py",
   "mimetype": "text/x-python",
   "name": "python",
   "nbconvert_exporter": "python",
   "pygments_lexer": "ipython3",
   "version": "3.9.1-final"
  }
 },
 "nbformat": 4,
 "nbformat_minor": 4
}