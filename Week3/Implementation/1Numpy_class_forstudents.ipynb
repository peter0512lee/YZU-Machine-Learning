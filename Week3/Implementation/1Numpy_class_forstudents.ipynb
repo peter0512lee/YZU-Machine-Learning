{
 "cells": [
  {
   "cell_type": "code",
   "execution_count": 3,
   "metadata": {},
   "outputs": [],
   "source": [
    "import numpy as np"
   ]
  },
  {
   "cell_type": "code",
   "execution_count": 2,
   "metadata": {},
   "outputs": [],
   "source": [
    "from numpy import random"
   ]
  },
  {
   "cell_type": "code",
   "execution_count": 3,
   "metadata": {},
   "outputs": [
    {
     "output_type": "stream",
     "name": "stdout",
     "text": [
      "資料型態 int64\n"
     ]
    }
   ],
   "source": [
    "#輸入np array\n",
    "data = np.array([9,2,3,4,10,6,7,8,1,5])\n",
    "print('資料型態',data.dtype)"
   ]
  },
  {
   "cell_type": "code",
   "execution_count": 4,
   "metadata": {},
   "outputs": [
    {
     "output_type": "stream",
     "name": "stdout",
     "text": [
      "維度 1\n元素數量 10\n"
     ]
    }
   ],
   "source": [
    "#輸入計算出array維度與元素數量\n",
    "data = np.array([9,2,3,4,10,6,7,8,1,5])\n",
    "print('維度',data.ndim)\n",
    "print('元素數量',data.size)"
   ]
  },
  {
   "cell_type": "code",
   "execution_count": 5,
   "metadata": {},
   "outputs": [
    {
     "output_type": "stream",
     "name": "stdout",
     "text": [
      "data*2 [18  4  6  8 20 12 14 16  2 10]\n乘法運算： [10 18 24 28 30 30 28 24 18  9]\n連乘： [ 81   4   9  16 100  36  49  64   1  25]\n除法： [0.1        0.22222222 0.375      0.57142857 0.83333333 1.2\n 1.75       2.66666667 4.5        9.        ]\n"
     ]
    }
   ],
   "source": [
    "data = np.array([9,2,3,4,10,6,7,8,1,5])\n",
    "print('data*2',data*2)\n",
    "print('乘法運算：',np.array([1,2,3,4,5,6,7,8,9,9]*np.array([10,9,8,7,6,5,4,3,2,1])))\n",
    "print('連乘：',data**2)\n",
    "print('除法：',np.array([1,2,3,4,5,6,7,8,9,9]/np.array([10,9,8,7,6,5,4,3,2,1])))"
   ]
  },
  {
   "cell_type": "code",
   "execution_count": 17,
   "metadata": {},
   "outputs": [
    {
     "output_type": "stream",
     "name": "stdout",
     "text": [
      "原本的值： [ 9  2  3  4 10  6  7  8  1  5]\n小到大的排序： [ 1  2  3  4  5  6  7  8  9 10]\n大到小的排序： [10  9  8  7  6  5  4  3  2  1]\n"
     ]
    }
   ],
   "source": [
    "#array值排序\n",
    "data = np.array([9,2,3,4,10,6,7,8,1,5])\n",
    "print('原本的值：',data)\n",
    "data = np.sort(data)\n",
    "print('小到大的排序：',data)\n",
    "data = -np.sort(-data)\n",
    "print('大到小的排序：',data)"
   ]
  },
  {
   "cell_type": "code",
   "execution_count": 25,
   "metadata": {},
   "outputs": [
    {
     "output_type": "stream",
     "name": "stdout",
     "text": [
      "最小值 1\n最大值： 10\n總和： 55\n累積和： [ 9 11 14 18 28 34 41 49 50 55]\n累積比例： [0.16363636 0.2        0.25454545 0.32727273 0.50909091 0.61818182\n 0.74545455 0.89090909 0.90909091 1.        ]\n"
     ]
    }
   ],
   "source": [
    "#array最小值、最大值、總和、累積和、累積比例\n",
    "data = np.array([9,2,3,4,10,6,7,8,1,5])\n",
    "print('最小值',data.min())\n",
    "print('最大值：',data.max())\n",
    "print('總和：',data.sum())\n",
    "print('累積和：',data.cumsum())\n",
    "print('累積比例：',data.cumsum()/data.sum())"
   ]
  },
  {
   "cell_type": "code",
   "execution_count": 10,
   "metadata": {},
   "outputs": [
    {
     "output_type": "stream",
     "name": "stdout",
     "text": [
      "含有10個亂數的陣列: [ 1.764  0.4    0.979  2.241  1.868 -0.977  0.95  -0.151 -0.103  0.411]\n"
     ]
    }
   ],
   "source": [
    "#產生亂數\n",
    "import numpy.random as random\n",
    "\n",
    "#指定隨機種子\n",
    "np.random.seed(0)\n",
    "#產生常態分佈（平均為0，標準差為1)的10個亂數\n",
    "rnd_data = np.random.randn(10)\n",
    "print('含有10個亂數的陣列:', rnd_data)"
   ]
  },
  {
   "cell_type": "code",
   "execution_count": 29,
   "metadata": {},
   "outputs": [
    {
     "output_type": "execute_result",
     "data": {
      "text/plain": [
       "'%.3f'"
      ]
     },
     "metadata": {},
     "execution_count": 29
    }
   ],
   "source": [
    "#顯示到小數點後第三位\n",
    "%precision 3"
   ]
  },
  {
   "cell_type": "code",
   "execution_count": 30,
   "metadata": {},
   "outputs": [
    {
     "output_type": "stream",
     "name": "stdout",
     "text": [
      "[10  4  3  3  1  6  9  9  7  9]\n[10  9  4  5  3  2  7  1  8  6]\n"
     ]
    }
   ],
   "source": [
    "data = np.array([9,2,3,4,10,6,7,8,1,5])\n",
    "\n",
    "# 隨機取出\n",
    "# 取出10個(允許重複，放回抽樣)\n",
    "print(random.choice(data, 10))\n",
    "#  取出10個(不允許重複，不放回抽樣)\n",
    "print(random.choice(data, 10, replace = False)) "
   ]
  },
  {
   "cell_type": "code",
   "execution_count": 33,
   "metadata": {},
   "outputs": [
    {
     "output_type": "stream",
     "name": "stdout",
     "text": [
      "[0 1 2 3 4 5 6 7 8]\n[[0 1 2]\n [3 4 5]\n [6 7 8]]\n第一列 [0 1 2]\n第一行 [0 3 6]\n"
     ]
    }
   ],
   "source": [
    "#產生矩陣\n",
    "array1 = np.arange(9)\n",
    "print(array1)\n",
    "array2 = np.arange(9).reshape(3,3)\n",
    "print(array2)\n",
    "#第一列\n",
    "print('第一列',array2[0,:])\n",
    "#第一行\n",
    "print('第一行',array2[:,0])"
   ]
  },
  {
   "cell_type": "code",
   "execution_count": 37,
   "metadata": {},
   "outputs": [
    {
     "output_type": "stream",
     "name": "stdout",
     "text": [
      "array1: [[0 1 2]\n [3 4 5]\n [6 7 8]]\narray2: [[ 9 10 11]\n [12 13 14]\n [15 16 17]]\n矩陣乘法： [[ 42  45  48]\n [150 162 174]\n [258 279 300]]\n元素之積： [[  0  10  22]\n [ 36  52  70]\n [ 90 112 136]]\n"
     ]
    }
   ],
   "source": [
    "#矩陣運算\n",
    "array1 = np.arange(9).reshape(3,3)\n",
    "array2 = np.arange(9,18).reshape(3,3)\n",
    "print('array1:',array1)\n",
    "print('array2:',array2)\n",
    "print('矩陣乘法：',np.dot(array1, array2))\n",
    "print('元素之積：',array1 * array2)"
   ]
  },
  {
   "cell_type": "code",
   "execution_count": 47,
   "metadata": {},
   "outputs": [
    {
     "output_type": "stream",
     "name": "stdout",
     "text": [
      "[[0 0 0]\n [0 0 0]]\n[[1. 1. 1.]\n [1. 1. 1.]]\n"
     ]
    }
   ],
   "source": [
    "#製作元素為0或1的矩陣\n",
    "print(np.zeros((2, 3), dtype = np.int64))\n",
    "print(np.ones((2, 3), dtype = np.float64))"
   ]
  },
  {
   "cell_type": "code",
   "execution_count": null,
   "metadata": {},
   "outputs": [],
   "source": []
  }
 ],
 "metadata": {
  "kernelspec": {
   "name": "python3",
   "display_name": "Python 3.9.1 64-bit",
   "metadata": {
    "interpreter": {
     "hash": "ac2eaa0ea0ebeafcc7822e65e46aa9d4f966f30b695406963e145ea4a91cd4fc"
    }
   }
  },
  "language_info": {
   "codemirror_mode": {
    "name": "ipython",
    "version": 3
   },
   "file_extension": ".py",
   "mimetype": "text/x-python",
   "name": "python",
   "nbconvert_exporter": "python",
   "pygments_lexer": "ipython3",
   "version": "3.9.1-final"
  }
 },
 "nbformat": 4,
 "nbformat_minor": 4
}