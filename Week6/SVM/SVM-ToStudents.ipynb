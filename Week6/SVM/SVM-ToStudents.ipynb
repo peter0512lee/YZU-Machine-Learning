{
 "cells": [
  {
   "cell_type": "code",
   "execution_count": 1,
   "metadata": {},
   "outputs": [],
   "source": [
    "#import package\n",
    "import pandas as pd\n",
    "import numpy as np\n",
    "from sklearn.model_selection import KFold\n",
    "from sklearn import ensemble, metrics\n",
    "from sklearn.metrics import accuracy_score\n",
    "from sklearn.utils import shuffle\n",
    "import math"
   ]
  },
  {
   "cell_type": "code",
   "execution_count": 9,
   "metadata": {},
   "outputs": [],
   "source": [
    "# 開啟 CSV 檔案\n",
    "dataset = pd.read_csv('train.csv')\n",
    "testset = pd.read_csv('test.csv')"
   ]
  },
  {
   "cell_type": "code",
   "execution_count": 10,
   "metadata": {},
   "outputs": [],
   "source": [
    "#將dataset shuffle\n",
    "dataset = shuffle(dataset)\n",
    "label = dataset.label\n",
    "dataset = dataset[dataset.columns[:449]]"
   ]
  },
  {
   "cell_type": "code",
   "execution_count": 11,
   "metadata": {},
   "outputs": [
    {
     "output_type": "stream",
     "name": "stderr",
     "text": [
      "/usr/local/lib/python3.9/site-packages/sklearn/utils/validation.py:70: FutureWarning: Pass shuffle=True as keyword args. From version 1.0 (renaming of 0.25) passing these as positional arguments will result in an error\n  warnings.warn(f\"Pass {args_msg} as keyword args. From version \"\n"
     ]
    }
   ],
   "source": [
    "# s1061443_李杰穎\n",
    "#svm\n",
    "from sklearn.multiclass import OneVsRestClassifier\n",
    "from sklearn.svm import SVC\n",
    "\n",
    "#10-fold cross-validation\n",
    "kfold = KFold(10, True)\n",
    "predicted = []\n",
    "expected = []\n",
    "\n",
    "#訓練模型\n",
    "for train, test in kfold.split(dataset):\n",
    "    X_train = dataset.iloc[train]\n",
    "    Y_train = label.iloc[train]\n",
    "    X_test = dataset.iloc[test]\n",
    "    Y_test = label.iloc[test]\n",
    "    svm = OneVsRestClassifier(SVC(gamma='scale')).fit(X_train, Y_train)\n",
    "    expected.extend(Y_test)\n",
    "    predicted.extend(svm.predict(X_test))\n"
   ]
  },
  {
   "cell_type": "code",
   "execution_count": 12,
   "metadata": {},
   "outputs": [
    {
     "output_type": "stream",
     "name": "stdout",
     "text": [
      "Macro-average: 0.9704003737173454\nMicro-average: 0.9712808730614589\n              precision    recall  f1-score   support\n\n           0       1.00      0.95      0.98       145\n           1       0.93      0.91      0.92       207\n           2       1.00      0.96      0.98       119\n           3       0.90      0.95      0.93       238\n           4       0.97      0.99      0.98       256\n           5       1.00      1.00      1.00       264\n           6       1.00      0.99      1.00       240\n           7       0.99      0.99      0.99       272\n\n    accuracy                           0.97      1741\n   macro avg       0.97      0.97      0.97      1741\nweighted avg       0.97      0.97      0.97      1741\n\n[[138   1   0   0   6   0   0   0]\n [  0 188   0  19   0   0   0   0]\n [  0   0 114   5   0   0   0   0]\n [  0  11   0 227   0   0   0   0]\n [  0   0   0   0 254   0   0   2]\n [  0   0   0   0   0 264   0   0]\n [  0   1   0   1   0   0 238   0]\n [  0   1   0   0   3   0   0 268]]\nAccuracy: 97.13%\nAverage = macro\nprecision: 0.9737323475467228\nrecall: 0.9676062110641983\nF1-score: 0.950798045797609\n\n\nAverage = micro\nprecision: 0.9712808730614589\nrecall: 0.9712808730614589\nF1-score: 0.9485160508782556\n\n\nAverage = weighted\nprecision: 0.9720086634961772\nrecall: 0.9712808730614589\nF1-score: 0.9485769600874481\n"
     ]
    }
   ],
   "source": [
    "print(\"Macro-average: {0}\".format(metrics.f1_score(expected,predicted,average='macro')))\n",
    "print(\"Micro-average: {0}\".format(metrics.f1_score(expected,predicted,average='micro')))\n",
    "print(metrics.classification_report(expected,predicted))\n",
    "print(metrics.confusion_matrix(expected, predicted))\n",
    "accuracy = accuracy_score(expected, predicted)\n",
    "print(\"Accuracy: %.2f%%\" % (accuracy * 100.0))\n",
    "\n",
    "print(\"Average = macro\")\n",
    "print('precision:',metrics.precision_score(expected, predicted,average='macro')) \n",
    "print('recall:',metrics.recall_score(expected, predicted,average='macro'))\n",
    "print('F1-score:',metrics.f1_score(expected, predicted,labels=[1,2,3,4],average='macro'))\n",
    "\n",
    "print(\"\\n\")\n",
    "print(\"Average = micro\")\n",
    "print('precision:', metrics.precision_score(expected, predicted, average='micro')) \n",
    "print('recall:',metrics.recall_score(expected, predicted,average='micro'))\n",
    "print('F1-score:',metrics.f1_score(expected, predicted,labels=[1,2,3,4],average='micro'))\n",
    "\n",
    "print(\"\\n\")\n",
    "print(\"Average = weighted\")\n",
    "print('precision:', metrics.precision_score(expected, predicted, average='weighted'))\n",
    "print('recall:',metrics.recall_score(expected, predicted,average='micro'))\n",
    "print('F1-score:',metrics.f1_score(expected,predicted,labels=[1,2,3,4],average='weighted'))"
   ]
  },
  {
   "cell_type": "code",
   "execution_count": null,
   "metadata": {},
   "outputs": [],
   "source": []
  }
 ],
 "metadata": {
  "kernelspec": {
   "name": "python391jvsc74a57bd0aee8b7b246df8f9039afb4144a1f6fd8d2ca17a180786b69acc140d282b71a49",
   "display_name": "Python 3.9.1 64-bit"
  },
  "language_info": {
   "codemirror_mode": {
    "name": "ipython",
    "version": 3
   },
   "file_extension": ".py",
   "mimetype": "text/x-python",
   "name": "python",
   "nbconvert_exporter": "python",
   "pygments_lexer": "ipython3",
   "version": "3.9.1-final"
  },
  "metadata": {
   "interpreter": {
    "hash": "aee8b7b246df8f9039afb4144a1f6fd8d2ca17a180786b69acc140d282b71a49"
   }
  }
 },
 "nbformat": 4,
 "nbformat_minor": 2
}