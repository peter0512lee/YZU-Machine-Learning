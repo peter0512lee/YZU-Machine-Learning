{
 "cells": [
  {
   "cell_type": "code",
   "execution_count": null,
   "metadata": {},
   "outputs": [],
   "source": [
    "#先導入資料處理會用到的模組\n",
    "import numpy as np\n",
    "import numpy.random as random\n",
    "import scipy as sp\n",
    "from pandas import Series, DataFrame\n",
    "import pandas as pd\n",
    "\n",
    "# 可視化模組\n",
    "import matplotlib.pyplot as plt\n",
    "import matplotlib as mpl\n",
    "import seaborn as sns\n",
    "%matplotlib inline\n",
    "\n",
    "# 機器學習模組\n",
    "import sklearn"
   ]
  },
  {
   "cell_type": "code",
   "execution_count": null,
   "metadata": {},
   "outputs": [],
   "source": [
    "#讀檔\n",
    "dataset = pd.read_csv(\"titanic/train.csv\")\n",
    "testdata = pd.read_csv(\"titanic/test.csv\")\n",
    "dataset.head(50)"
   ]
  },
  {
   "cell_type": "code",
   "execution_count": null,
   "metadata": {},
   "outputs": [],
   "source": [
    "#觀察資料幾列幾行\n",
    "dataset.shape, testdata.shape"
   ]
  },
  {
   "cell_type": "code",
   "execution_count": null,
   "metadata": {},
   "outputs": [],
   "source": [
    "#觀察整個資料集的資訊\n",
    "dataset.info()\n",
    "testdata.info()"
   ]
  },
  {
   "cell_type": "code",
   "execution_count": null,
   "metadata": {},
   "outputs": [],
   "source": [
    "#設定seaborn為預設繪圖library\n",
    "sns.set()"
   ]
  },
  {
   "cell_type": "code",
   "execution_count": null,
   "metadata": {},
   "outputs": [],
   "source": [
    "def bar_chart(feature):\n",
    "    survived = dataset[dataset['Survived'] == 1][feature].value_counts()\n",
    "    dead = dataset[dataset['Survived'] == 0][feature].value_counts()\n",
    "    df = pd.DataFrame([survived, dead])\n",
    "    df.index = ['Survived','Dead']\n",
    "    df.plot(kind='bar',stacked=True, figsize=(10,5))"
   ]
  },
  {
   "cell_type": "code",
   "execution_count": null,
   "metadata": {},
   "outputs": [],
   "source": [
    "#分別秀出生還/死亡的男女長條圖\n",
    "bar_chart('Sex')"
   ]
  },
  {
   "cell_type": "code",
   "execution_count": null,
   "metadata": {},
   "outputs": [],
   "source": [
    "#分別秀出生還/死亡的艙等長條圖\n",
    "bar_chart('Pclass')"
   ]
  },
  {
   "cell_type": "code",
   "execution_count": null,
   "metadata": {},
   "outputs": [],
   "source": [
    "# 計算各個行(欄位)裡有多少個“NaN”\n",
    "dataset.isna().sum()"
   ]
  },
  {
   "cell_type": "code",
   "execution_count": null,
   "metadata": {},
   "outputs": [],
   "source": [
    "testdata.isna().sum()"
   ]
  },
  {
   "cell_type": "markdown",
   "metadata": {},
   "source": [
    "# Name"
   ]
  },
  {
   "cell_type": "code",
   "execution_count": null,
   "metadata": {},
   "outputs": [],
   "source": [
    "#觀察Name欄位\n",
    "dataset['Name']"
   ]
  },
  {
   "cell_type": "code",
   "execution_count": null,
   "metadata": {},
   "outputs": [],
   "source": [
    "#取出Mr., Mrs., Miss\n",
    "dataset['Title'] = dataset['Name'].str.extract(' ([A-Za-z]+)\\.', expand=False)\n",
    "testdata['Title'] = testdata['Name'].str.extract(' ([A-Za-z]+)\\.', expand=False)\n",
    "#https://reurl.cc/qeZQE\n",
    "#https://reurl.cc/Neb8n"
   ]
  },
  {
   "cell_type": "code",
   "execution_count": null,
   "metadata": {},
   "outputs": [],
   "source": [
    "#統計各稱謂的人數\n",
    "dataset['Title'].value_counts()"
   ]
  },
  {
   "cell_type": "code",
   "execution_count": null,
   "metadata": {},
   "outputs": [],
   "source": [
    "testdata['Title'].value_counts()"
   ]
  },
  {
   "cell_type": "code",
   "execution_count": null,
   "metadata": {},
   "outputs": [],
   "source": [
    "#titlemapping\n",
    "title_mapping = {\"Mr\": 0, \"Miss\": 1, \"Mrs\": 2, \"Master\": 3, \"Dr\": 3, \"Rev\": 3, \"Col\": 3, \"Major\": 3, \"Mlle\": 3,\"Capt\": 3, \"Jonkheer\": 3, \"Ms\": 3, \"Countess\": 3, \"Sir\": 3, \"Don\": 3, \"Mme\": 3, \"Lady\": 3, \"Dona\": 3}\n",
    "dataset['Title'] = dataset['Title'].map(title_mapping)\n",
    "testdata['Title'] = testdata['Title'].map(title_mapping)"
   ]
  },
  {
   "cell_type": "code",
   "execution_count": null,
   "metadata": {},
   "outputs": [],
   "source": [
    "#現在的dataset\n",
    "dataset.head()"
   ]
  },
  {
   "cell_type": "code",
   "execution_count": null,
   "metadata": {},
   "outputs": [],
   "source": [
    "#現在的dataframe\n",
    "testdata.head()"
   ]
  },
  {
   "cell_type": "code",
   "execution_count": null,
   "metadata": {},
   "outputs": [],
   "source": [
    "#秀出Title/生還死亡的分佈\n",
    "bar_chart('Title')"
   ]
  },
  {
   "cell_type": "code",
   "execution_count": null,
   "metadata": {},
   "outputs": [],
   "source": [
    "# 刪除Name欄位\n",
    "dataset.drop('Name', axis=1, inplace=True)\n",
    "testdata.drop('Name', axis=1, inplace=True)"
   ]
  },
  {
   "cell_type": "code",
   "execution_count": null,
   "metadata": {},
   "outputs": [],
   "source": [
    "#目前的dataframe\n",
    "dataset.head()"
   ]
  },
  {
   "cell_type": "markdown",
   "metadata": {},
   "source": [
    "# Sex"
   ]
  },
  {
   "cell_type": "code",
   "execution_count": null,
   "metadata": {},
   "outputs": [],
   "source": [
    "#mapping sex\n",
    "sex_mapping = {\"male\": 0, \"female\": 1}\n",
    "dataset['Sex'] = dataset['Sex'].map(sex_mapping)\n",
    "testdata['Sex'] = testdata['Sex'].map(sex_mapping)"
   ]
  },
  {
   "cell_type": "code",
   "execution_count": null,
   "metadata": {},
   "outputs": [],
   "source": [
    "dataset.head()"
   ]
  },
  {
   "cell_type": "code",
   "execution_count": null,
   "metadata": {},
   "outputs": [],
   "source": [
    "bar_chart('Sex')"
   ]
  },
  {
   "cell_type": "code",
   "execution_count": null,
   "metadata": {},
   "outputs": [],
   "source": [
    "#目前的dataframe\n",
    "dataset.head()"
   ]
  },
  {
   "cell_type": "markdown",
   "metadata": {},
   "source": [
    "# Age"
   ]
  },
  {
   "cell_type": "code",
   "execution_count": null,
   "metadata": {},
   "outputs": [],
   "source": [
    "# fill missing age with median age for each title (Mr, Mrs, Miss, Others)\n",
    "dataset[\"Age\"].fillna(dataset.groupby(\"Title\")[\"Age\"].transform(\"median\"), inplace=True)\n",
    "testdata[\"Age\"].fillna(testdata.groupby(\"Title\")[\"Age\"].transform(\"median\"), inplace=True)\n",
    "dataset[\"Age\"]"
   ]
  },
  {
   "cell_type": "code",
   "execution_count": null,
   "metadata": {},
   "outputs": [],
   "source": [
    "#年齡/生還死亡分布圖\n",
    "facet = sns.FacetGrid(dataset, hue=\"Survived\",aspect=4)\n",
    "facet.map(sns.kdeplot,'Age',shade= True)\n",
    "facet.set(xlim=(0, dataset['Age'].max()))\n",
    "facet.add_legend()\n",
    " \n",
    "plt.show()"
   ]
  },
  {
   "cell_type": "code",
   "execution_count": null,
   "metadata": {},
   "outputs": [],
   "source": [
    "#依年齡區間做mapping function\n",
    "dataset.loc[dataset['Age'] <= 16, 'Age'] = 0\n",
    "dataset.loc[(dataset['Age'] > 16) & (dataset['Age'] <= 26), 'Age'] = 1\n",
    "dataset.loc[(dataset['Age'] > 26) & (dataset['Age'] <= 36), 'Age'] = 2\n",
    "dataset.loc[(dataset['Age'] > 36) & (dataset['Age'] <= 62), 'Age'] = 3\n",
    "dataset.loc[dataset['Age'] > 62, 'Age'] = 4\n",
    "\n",
    "testdata.loc[testdata['Age'] <= 16, 'Age'] = 0\n",
    "testdata.loc[(testdata['Age'] > 16) & (testdata['Age'] <= 26), 'Age'] = 1\n",
    "testdata.loc[(testdata['Age'] > 26) & (testdata['Age'] <= 36), 'Age'] = 2\n",
    "testdata.loc[(testdata['Age'] > 36) & (testdata['Age'] <= 62), 'Age'] = 3\n",
    "testdata.loc[testdata['Age'] > 62, 'Age'] = 4"
   ]
  },
  {
   "cell_type": "code",
   "execution_count": null,
   "metadata": {},
   "outputs": [],
   "source": [
    "#目前的dataframe\n",
    "dataset.head()"
   ]
  },
  {
   "cell_type": "code",
   "execution_count": null,
   "metadata": {},
   "outputs": [],
   "source": [
    "#秀出年齡/生還死亡的分佈\n",
    "bar_chart(\"Age\")"
   ]
  },
  {
   "cell_type": "markdown",
   "metadata": {},
   "source": [
    "# Embarked (登船地點)"
   ]
  },
  {
   "cell_type": "code",
   "execution_count": null,
   "metadata": {},
   "outputs": [],
   "source": [
    "#分析各票種登船地點人數\n",
    "Pclass1 = dataset[dataset['Pclass'] == 1]['Embarked'].value_counts()\n",
    "Pclass2 = dataset[dataset['Pclass'] == 2]['Embarked'].value_counts()\n",
    "Pclass3 = dataset[dataset['Pclass'] == 3]['Embarked'].value_counts()\n",
    "df = pd.DataFrame([Pclass1, Pclass2, Pclass3])\n",
    "df.index = ['1st class','2nd class', '3rd class']\n",
    "df.plot(kind='bar',stacked=True, figsize=(10,5))"
   ]
  },
  {
   "cell_type": "code",
   "execution_count": null,
   "metadata": {},
   "outputs": [],
   "source": [
    "#填補登船地點缺失資料\n",
    "dataset['Embarked'] = dataset['Embarked'].fillna('S')\n",
    "testdata['Embarked'] = testdata['Embarked'].fillna('S')\n",
    "dataset.head(100)"
   ]
  },
  {
   "cell_type": "code",
   "execution_count": null,
   "metadata": {},
   "outputs": [],
   "source": [
    "# 登船地點的Mapping Function\n",
    "embarked_mapping = {\"S\": 0, \"C\": 1, \"Q\": 2}\n",
    "dataset['Embarked'] = dataset['Embarked'].map(embarked_mapping)\n",
    "testdata['Embarked'] = testdata['Embarked'].map(embarked_mapping)\n",
    "dataset.head(100)"
   ]
  },
  {
   "cell_type": "markdown",
   "metadata": {},
   "source": [
    "# Fare(票價)"
   ]
  },
  {
   "cell_type": "code",
   "execution_count": null,
   "metadata": {},
   "outputs": [],
   "source": [
    "#填補票價缺失的資料 \n",
    "dataset['Fare'].fillna(dataset.groupby(\"Pclass\")[\"Fare\"].transform(\"median\"), inplace=True)\n",
    "testdata['Fare'].fillna(testdata.groupby(\"Pclass\")[\"Fare\"].transform(\"median\"), inplace=True)\n",
    "dataset.head(50)"
   ]
  },
  {
   "cell_type": "code",
   "execution_count": null,
   "metadata": {},
   "outputs": [],
   "source": [
    "#票價/生還死亡分布圖\n",
    "facet = sns.FacetGrid(dataset, hue=\"Survived\",aspect=4)\n",
    "facet.map(sns.kdeplot,'Fare',shade= True)\n",
    "facet.set(xlim=(0, dataset['Fare'].max()))\n",
    "facet.add_legend()\n",
    " \n",
    "plt.show()"
   ]
  },
  {
   "cell_type": "code",
   "execution_count": null,
   "metadata": {},
   "outputs": [],
   "source": [
    "#依票價區間做mapping function\n",
    "dataset.loc[dataset['Fare'] <= 17, 'Fare'] = 0\n",
    "dataset.loc[(dataset['Fare'] > 17) & (dataset['Fare'] <= 30), 'Fare'] = 1\n",
    "dataset.loc[(dataset['Fare'] > 30) & (dataset['Fare'] <= 100), 'Fare'] = 2\n",
    "dataset.loc[dataset['Fare'] > 100, 'Fare'] = 3\n",
    "\n",
    "testdata.loc[testdata['Fare'] <= 17, 'Fare'] = 0\n",
    "testdata.loc[(testdata['Fare'] > 17) & (testdata['Fare'] <= 30), 'Fare'] = 1\n",
    "testdata.loc[(testdata['Fare'] > 30) & (testdata['Fare'] <= 100), 'Fare'] = 2\n",
    "testdata.loc[testdata['Fare'] > 100, 'Fare'] = 3"
   ]
  },
  {
   "cell_type": "code",
   "execution_count": null,
   "metadata": {},
   "outputs": [],
   "source": [
    "#目前的dataframe\n",
    "dataset.head()"
   ]
  },
  {
   "cell_type": "code",
   "execution_count": null,
   "metadata": {},
   "outputs": [],
   "source": [
    "#觀察船艙編號資料\n",
    "dataset['Cabin'].value_counts()"
   ]
  },
  {
   "cell_type": "code",
   "execution_count": null,
   "metadata": {},
   "outputs": [],
   "source": [
    "#觀察船艙編號資料 =>取出第一個字母\n",
    "dataset[\"Cabin\"] = dataset[\"Cabin\"].str[:1]\n",
    "testdata[\"Cabin\"] = testdata[\"Cabin\"].str[:1]\n",
    "dataset[\"Cabin\"]"
   ]
  },
  {
   "cell_type": "code",
   "execution_count": null,
   "metadata": {},
   "outputs": [],
   "source": [
    "#分析各票種船艙種類人數\n",
    "Pclass1 = dataset[dataset['Pclass'] == 1]['Cabin'].value_counts()\n",
    "Pclass2 = dataset[dataset['Pclass'] == 2]['Cabin'].value_counts()\n",
    "Pclass3 = dataset[dataset['Pclass'] == 3]['Cabin'].value_counts()\n",
    "df = pd.DataFrame([Pclass1, Pclass2, Pclass3])\n",
    "df.index = ['1st class','2nd class', '3rd class']\n",
    "df.plot(kind='bar',stacked=True, figsize=(10,5))"
   ]
  },
  {
   "cell_type": "code",
   "execution_count": null,
   "metadata": {},
   "outputs": [],
   "source": [
    "#船艙Mapping\n",
    "cabin_mapping = {\"A\": 0, \"B\": 0.4, \"C\": 0.8, \"D\": 1.2, \"E\": 1.6, \"F\": 2, \"G\": 2.4, \"T\": 2.8}\n",
    "dataset['Cabin'] = dataset['Cabin'].map(cabin_mapping)\n",
    "testdata['Cabin'] = testdata['Cabin'].map(cabin_mapping)"
   ]
  },
  {
   "cell_type": "code",
   "execution_count": null,
   "metadata": {},
   "outputs": [],
   "source": [
    "#填補船艙種類缺失資料\n",
    "dataset['Cabin'].fillna(dataset.groupby(\"Pclass\")[\"Cabin\"].transform(\"median\"), inplace=True)\n",
    "testdata['Cabin'].fillna(testdata.groupby(\"Pclass\")[\"Cabin\"].transform(\"median\"), inplace=True)"
   ]
  },
  {
   "cell_type": "code",
   "execution_count": null,
   "metadata": {},
   "outputs": [],
   "source": [
    "#目前的dataframe\n",
    "dataset.head()"
   ]
  },
  {
   "cell_type": "markdown",
   "metadata": {},
   "source": [
    "# Sibsp & Parch"
   ]
  },
  {
   "cell_type": "code",
   "execution_count": null,
   "metadata": {},
   "outputs": [],
   "source": [
    "#合併Sibsp & Parch\n",
    "dataset[\"FamilySize\"] = dataset[\"SibSp\"] + dataset[\"Parch\"] + 1\n",
    "testdata[\"FamilySize\"] = testdata[\"SibSp\"] + testdata[\"Parch\"] + 1"
   ]
  },
  {
   "cell_type": "code",
   "execution_count": null,
   "metadata": {},
   "outputs": [],
   "source": [
    "#家族人口/生還死亡分布圖\n",
    "facet = sns.FacetGrid(dataset, hue=\"Survived\",aspect=4)\n",
    "facet.map(sns.kdeplot,'FamilySize',shade= True)\n",
    "facet.set(xlim=(0, dataset['FamilySize'].max()))\n",
    "facet.add_legend()\n",
    "plt.xlim(0)"
   ]
  },
  {
   "cell_type": "code",
   "execution_count": null,
   "metadata": {},
   "outputs": [],
   "source": [
    "#家族人口的Mapping Function\n",
    "family_mapping = {1: 0, 2: 0.4, 3: 0.8, 4: 1.2, 5: 1.6, 6: 2, 7: 2.4, 8: 2.8, 8: 3.2, 10: 3.6, 11: 4}\n",
    "dataset['FamilySize'] = dataset['FamilySize'].map(family_mapping)\n",
    "testdata['FamilySize'] = testdata['FamilySize'].map(family_mapping)"
   ]
  },
  {
   "cell_type": "code",
   "execution_count": null,
   "metadata": {},
   "outputs": [],
   "source": [
    "#目前的dataframe\n",
    "dataset.head()"
   ]
  },
  {
   "cell_type": "markdown",
   "metadata": {},
   "source": [
    "# 資料清洗"
   ]
  },
  {
   "cell_type": "code",
   "execution_count": null,
   "metadata": {},
   "outputs": [],
   "source": [
    "#刪除Sibsp, Parch, Ticket\n",
    "features_drop = ['Ticket', 'SibSp', 'Parch', 'PassengerId']\n",
    "dataset = dataset.drop(features_drop, axis=1)\n",
    "testdata = testdata.drop(features_drop, axis=1)"
   ]
  },
  {
   "cell_type": "code",
   "execution_count": null,
   "metadata": {},
   "outputs": [],
   "source": [
    "#設定預測目標變數與解釋變數\n",
    "dataset_data = dataset.drop('Survived', axis=1)\n",
    "dataset_target = dataset[['Survived']]\n",
    "dataset_data.shape, dataset_target.shape"
   ]
  },
  {
   "cell_type": "code",
   "execution_count": null,
   "metadata": {},
   "outputs": [],
   "source": [
    "#目前的所有解釋變數\n",
    "dataset_data.head()"
   ]
  },
  {
   "cell_type": "code",
   "execution_count": null,
   "metadata": {},
   "outputs": [],
   "source": [
    "#確認欄位的資料型態均為數值型別\n",
    "dataset_data.info()"
   ]
  },
  {
   "cell_type": "code",
   "execution_count": null,
   "metadata": {},
   "outputs": [],
   "source": [
    "testdata.head()"
   ]
  },
  {
   "cell_type": "code",
   "execution_count": null,
   "metadata": {},
   "outputs": [],
   "source": [
    "testdata.info()"
   ]
  },
  {
   "cell_type": "markdown",
   "metadata": {},
   "source": [
    "# 建置模型-DNN"
   ]
  },
  {
   "cell_type": "code",
   "execution_count": null,
   "metadata": {
    "scrolled": true
   },
   "outputs": [],
   "source": [
    "#導入keras與sklearn\n",
    "from keras.models import Sequential\n",
    "from keras.layers.core import Dense, Activation\n",
    "from keras.optimizers import Adam\n",
    "from sklearn import preprocessing"
   ]
  },
  {
   "cell_type": "code",
   "execution_count": null,
   "metadata": {},
   "outputs": [],
   "source": [
    "#建立模型函式\n",
    "def build_model():\n",
    "    model = Sequential()\n",
    "    model.add(Dense(input_dim=8, units=40))\n",
    "    model.add(Activation('relu'))\n",
    "    model.add(Dense(units=100))\n",
    "    model.add(Activation('relu'))\n",
    "    model.add(Dense(units=10))\n",
    "    model.add(Activation('relu'))\n",
    "    model.add(Dense(units=1))\n",
    "    model.add(Activation('sigmoid'))\n",
    "    model.summary()\n",
    "    return model"
   ]
  },
  {
   "cell_type": "code",
   "execution_count": null,
   "metadata": {},
   "outputs": [],
   "source": [
    "#建置繪圖函式\n",
    "def show_train_history(train_history,train,validation,label):\n",
    "    plt.plot(train_history.history[train])\n",
    "    plt.plot(train_history.history[validation])\n",
    "    plt.title('Train History')\n",
    "    plt.ylabel(label)\n",
    "    plt.xlabel('Epoch')\n",
    "    plt.legend(['train','validation'],loc='upper left')\n",
    "    plt.show()"
   ]
  },
  {
   "cell_type": "code",
   "execution_count": null,
   "metadata": {},
   "outputs": [],
   "source": [
    "#feature標準化\n",
    "minmax_scale = preprocessing.MinMaxScaler(feature_range=(0, 1))\n",
    "scaledFeatures = minmax_scale.fit_transform(dataset_data)"
   ]
  },
  {
   "cell_type": "code",
   "execution_count": null,
   "metadata": {},
   "outputs": [],
   "source": [
    "#訓練模型\n",
    "model = build_model()"
   ]
  },
  {
   "cell_type": "code",
   "execution_count": null,
   "metadata": {},
   "outputs": [],
   "source": [
    "#開始訓練模型\n",
    "model.compile(loss='binary_crossentropy', optimizer='adam', metrics=['acc'])\n",
    "train_history = model.fit(scaledFeatures, dataset_target, validation_split=0.2, batch_size=32, epochs=300)\n",
    "\n",
    "#顯示訓練結果\n",
    "score = model.evaluate(scaledFeatures, dataset_target)\n",
    "print ('\\nTrain Acc:', score[1])"
   ]
  },
  {
   "cell_type": "code",
   "execution_count": null,
   "metadata": {},
   "outputs": [],
   "source": [
    "#顯示訓練結果\n",
    "show_train_history(train_history, 'acc', 'val_acc', 'accuracy')\n",
    "show_train_history(train_history, 'loss', 'val_loss', 'loss')"
   ]
  },
  {
   "cell_type": "code",
   "execution_count": 68,
   "metadata": {},
   "outputs": [],
   "source": [
    "probability = model.predict(testdata).astype(int)\n",
    "probability\n",
    "sub=pd.read_csv('titanic/gender_submission.csv',sep=',')\n",
    "sub['Survived']=probability\n",
    "sub.to_csv('submission.csv',index=False)"
   ]
  },
  {
   "cell_type": "code",
   "execution_count": 67,
   "metadata": {},
   "outputs": [
    {
     "output_type": "execute_result",
     "data": {
      "text/plain": [
       "(     Pclass  Sex  Age  Fare  Cabin  Embarked  Title  FamilySize\n",
       " 0         3    0  2.0   0.0    2.0         2      0         0.0\n",
       " 1         3    1  3.0   0.0    2.0         0      2         0.4\n",
       " 2         2    0  3.0   0.0    2.0         2      0         0.0\n",
       " 3         3    0  2.0   0.0    2.0         0      0         0.0\n",
       " 4         3    1  1.0   0.0    2.0         0      2         0.8\n",
       " ..      ...  ...  ...   ...    ...       ...    ...         ...\n",
       " 413       3    0  2.0   0.0    2.0         0      0         0.0\n",
       " 414       1    1  3.0   3.0    0.8         1      3         0.0\n",
       " 415       3    0  3.0   0.0    2.0         0      0         0.0\n",
       " 416       3    0  2.0   0.0    2.0         0      0         0.0\n",
       " 417       3    0  0.0   1.0    2.0         1      3         0.8\n",
       " \n",
       " [418 rows x 8 columns],\n",
       "      Survived\n",
       " 0           0\n",
       " 1           1\n",
       " 2           0\n",
       " 3           0\n",
       " 4           1\n",
       " ..        ...\n",
       " 413         0\n",
       " 414         1\n",
       " 415         0\n",
       " 416         0\n",
       " 417         0\n",
       " \n",
       " [418 rows x 1 columns])"
      ]
     },
     "metadata": {},
     "execution_count": 67
    }
   ],
   "source": [
    "testdata_target = pd.read_csv(\"titanic/gender_submission.csv\")\n",
    "testdata_target = pd.DataFrame(testdata_target, columns=['Survived'])\n",
    "testdata, testdata_target"
   ]
  },
  {
   "cell_type": "code",
   "execution_count": 66,
   "metadata": {},
   "outputs": [
    {
     "output_type": "stream",
     "name": "stdout",
     "text": [
      "14/14 [==============================] - 0s 1ms/step - loss: 5.2245 - acc: 0.7344\n",
      "\\Test Acc: 0.7344497442245483\n"
     ]
    }
   ],
   "source": [
    "score = model.evaluate(testdata, testdata_target)\n",
    "print('\\Test Acc:', score[1])"
   ]
  },
  {
   "cell_type": "code",
   "execution_count": null,
   "metadata": {},
   "outputs": [],
   "source": [
    "model.save('dnnfortitanic.h5')"
   ]
  },
  {
   "source": [
    "# SVM"
   ],
   "cell_type": "markdown",
   "metadata": {}
  },
  {
   "cell_type": "code",
   "execution_count": 70,
   "metadata": {},
   "outputs": [],
   "source": [
    "from sklearn import svm "
   ]
  },
  {
   "cell_type": "code",
   "execution_count": 75,
   "metadata": {},
   "outputs": [
    {
     "output_type": "stream",
     "name": "stderr",
     "text": [
      "/usr/local/lib/python3.9/site-packages/sklearn/utils/validation.py:63: DataConversionWarning: A column-vector y was passed when a 1d array was expected. Please change the shape of y to (n_samples, ), for example using ravel().\n  return f(*args, **kwargs)\n"
     ]
    }
   ],
   "source": [
    "model = svm.SVC().fit(scaledFeatures, dataset_target)"
   ]
  },
  {
   "cell_type": "code",
   "execution_count": 81,
   "metadata": {},
   "outputs": [],
   "source": [
    "probability = model.predict(testdata)\n",
    "probability\n",
    "sub=pd.read_csv('titanic/gender_submission.csv',sep=',')\n",
    "sub['Survived']=probability\n",
    "sub.to_csv('svm_submission.csv',index=False)"
   ]
  },
  {
   "source": [
    "# RandomForest"
   ],
   "cell_type": "markdown",
   "metadata": {}
  },
  {
   "cell_type": "code",
   "execution_count": 77,
   "metadata": {},
   "outputs": [],
   "source": [
    "from sklearn.ensemble import RandomForestClassifier"
   ]
  },
  {
   "cell_type": "code",
   "execution_count": 78,
   "metadata": {},
   "outputs": [
    {
     "output_type": "stream",
     "name": "stderr",
     "text": [
      "<ipython-input-78-b95f62cb98dd>:2: DataConversionWarning: A column-vector y was passed when a 1d array was expected. Please change the shape of y to (n_samples,), for example using ravel().\n  model.fit(scaledFeatures, dataset_target)\n"
     ]
    },
    {
     "output_type": "execute_result",
     "data": {
      "text/plain": [
       "RandomForestClassifier(n_estimators=1000)"
      ]
     },
     "metadata": {},
     "execution_count": 78
    }
   ],
   "source": [
    "model = RandomForestClassifier(n_estimators=1000)\n",
    "model.fit(scaledFeatures, dataset_target)"
   ]
  },
  {
   "cell_type": "code",
   "execution_count": 80,
   "metadata": {},
   "outputs": [],
   "source": [
    "probability = model.predict(testdata)\n",
    "probability\n",
    "sub=pd.read_csv('titanic/gender_submission.csv',sep=',')\n",
    "sub['Survived']=probability\n",
    "sub.to_csv('rf_submission.csv',index=False)"
   ]
  },
  {
   "cell_type": "code",
   "execution_count": null,
   "metadata": {},
   "outputs": [],
   "source": []
  }
 ],
 "metadata": {
  "kernelspec": {
   "name": "python391jvsc74a57bd0aee8b7b246df8f9039afb4144a1f6fd8d2ca17a180786b69acc140d282b71a49",
   "display_name": "Python 3.9.1 64-bit"
  },
  "language_info": {
   "codemirror_mode": {
    "name": "ipython",
    "version": 3
   },
   "file_extension": ".py",
   "mimetype": "text/x-python",
   "name": "python",
   "nbconvert_exporter": "python",
   "pygments_lexer": "ipython3",
   "version": "3.9.1"
  },
  "metadata": {
   "interpreter": {
    "hash": "aee8b7b246df8f9039afb4144a1f6fd8d2ca17a180786b69acc140d282b71a49"
   }
  }
 },
 "nbformat": 4,
 "nbformat_minor": 2
}