{
 "metadata": {
  "language_info": {
   "codemirror_mode": {
    "name": "ipython",
    "version": 3
   },
   "file_extension": ".py",
   "mimetype": "text/x-python",
   "name": "python",
   "nbconvert_exporter": "python",
   "pygments_lexer": "ipython3",
   "version": "3.9.1"
  },
  "orig_nbformat": 2,
  "kernelspec": {
   "name": "python391jvsc74a57bd0aee8b7b246df8f9039afb4144a1f6fd8d2ca17a180786b69acc140d282b71a49",
   "display_name": "Python 3.9.1 64-bit"
  },
  "metadata": {
   "interpreter": {
    "hash": "aee8b7b246df8f9039afb4144a1f6fd8d2ca17a180786b69acc140d282b71a49"
   }
  }
 },
 "nbformat": 4,
 "nbformat_minor": 2,
 "cells": [
  {
   "cell_type": "code",
   "execution_count": null,
   "metadata": {},
   "outputs": [],
   "source": [
    "import pandas as pd\n",
    "import numpy as np\n",
    "import torch\n",
    "import torch.nn as nn\n",
    "import torch.nn.functional as F\n",
    "from torch.utils.data import TensorDataset, DataLoader\n",
    "from torchsummary import summary\n",
    "from datetime import datetime\n",
    "\n",
    "pd.set_option('mode.chained_assignment', None)"
   ]
  },
  {
   "source": [
    "# Data preprocessing"
   ],
   "cell_type": "markdown",
   "metadata": {}
  },
  {
   "cell_type": "code",
   "execution_count": null,
   "metadata": {},
   "outputs": [],
   "source": [
    "birth = pd.read_csv(\"data/birth.csv\")\n",
    "breed = pd.read_csv(\"data/breed.csv\")\n",
    "report = pd.read_csv(\"data/report.csv\")\n",
    "spec = pd.read_csv(\"data/spec.csv\")\n",
    "submission = pd.read_csv(\"data/submission.csv\")\n",
    "report.head()"
   ]
  },
  {
   "cell_type": "code",
   "execution_count": null,
   "metadata": {},
   "outputs": [],
   "source": [
    "train = report\n",
    "test = report\n",
    "train.info()\n",
    "train.isna().sum()\n",
    "test.info()\n",
    "test.isna().sum()"
   ]
  },
  {
   "cell_type": "code",
   "execution_count": null,
   "metadata": {},
   "outputs": [],
   "source": [
    "# 把train中乳量是空的刪掉\n",
    "train = train.dropna(subset=['11'])\n",
    "train.reset_index(drop=True, inplace=True)"
   ]
  },
  {
   "cell_type": "code",
   "execution_count": null,
   "metadata": {},
   "outputs": [],
   "source": [
    "test = test[test['11'].isnull()]\n",
    "test.reset_index(drop=True, inplace=True)\n",
    "test"
   ]
  },
  {
   "cell_type": "code",
   "execution_count": null,
   "metadata": {},
   "outputs": [],
   "source": [
    "# 將乳牛的空值填入平均體重\n",
    "avg_weight = birth['6'].mean()\n",
    "birth['6'] = birth['6'].fillna(birth['6'].mean())"
   ]
  },
  {
   "cell_type": "code",
   "execution_count": null,
   "metadata": {},
   "outputs": [],
   "source": [
    "train['6']=train['6'].fillna(\"NoData\").astype(\"str\")\n",
    "train['7']=train['7'].fillna(\"NoData\").astype(\"str\")\n",
    "train.dropna(subset=['6', '7', '10'], inplace=True)\n",
    "train.dropna(axis='columns', inplace=True)\n",
    "\n",
    "test['6']=test['6'].fillna(\"NoData\").astype(\"str\")\n",
    "test['7']=test['7'].fillna(\"NoData\").astype(\"str\")"
   ]
  },
  {
   "cell_type": "code",
   "execution_count": null,
   "metadata": {},
   "outputs": [],
   "source": [
    "# train 合併 spec, 當年當月有病1, 沒病0\n",
    "from datetime import datetime\n",
    "train['health'] = 0\n",
    "test['health'] = 0\n",
    "for i in range(len(spec)):\n",
    "    ym = datetime.strptime(spec['4'][i], \"%Y/%m/%d %H:%M\")\n",
    "    if len(train.index[train[\"5\"] == spec[\"1\"][i]]) > 0:\n",
    "        for j in train.index[train[\"5\"] == spec[\"1\"][i]]:\n",
    "            if train['2'][j] == ym.year and train['3'][j] == ym.month and train['4'][j]==spec['7'][i]:\n",
    "                train['health'][j] = 1\n",
    "    if len(test.index[test[\"5\"] == spec[\"1\"][i]]) > 0:\n",
    "        for j in test.index[test[\"5\"] == spec[\"1\"][i]]:\n",
    "            if test['2'][j] == ym.year and test['3'][j] == ym.month and test['4'][j]==spec['7'][i]:\n",
    "                test['health'][j] = 1"
   ]
  },
  {
   "cell_type": "code",
   "execution_count": null,
   "metadata": {},
   "outputs": [],
   "source": [
    "train['weight'] = np.nan\n",
    "test['weight'] = np.nan\n",
    "for i in range(len(birth)):\n",
    "    if len(train.index[train['5'] == birth['1'][i]])>0:\n",
    "        for j in train.index[train['5'] == birth['1'][i]]:\n",
    "                train['weight'][j] = birth['6'][i]\n",
    "    if len(test.index[test['5'] == birth['1'][i]])>0:\n",
    "        for j in test.index[test['5'] == birth['1'][i]]:\n",
    "                test['weight'][j] = birth['6'][i]\n",
    "train['weight'] = train['weight'].fillna(avg_weight)\n",
    "test['weight'] = test['weight'].fillna(avg_weight)"
   ]
  },
  {
   "cell_type": "code",
   "execution_count": null,
   "metadata": {},
   "outputs": [],
   "source": [
    "# 新增season欄位\n",
    "train['season'] = \"\"\n",
    "for index, row in train.iterrows():\n",
    "    if int(train['3'][index]) >= 3 and int(train['3'][index]) <= 5:\n",
    "        train['season'][index] = 'Spring'\n",
    "    elif int(train['3'][index]) >= 6 and int(train['3'][index]) <= 8:\n",
    "        train['season'][index] = 'Summer'\n",
    "    elif int(train['3'][index]) >= 9 and int(train['3'][index]) <= 11:\n",
    "        train['season'][index] = 'Autumn'\n",
    "    else:\n",
    "        train['season'][index] = 'Winter'\n",
    "\n",
    "test['season'] = \"\"\n",
    "for index, row in test.iterrows():\n",
    "    if int(test['3'][index]) >= 3 and int(test['3'][index]) <= 5:\n",
    "        test['season'][index] = 'Spring'\n",
    "    elif int(test['3'][index]) >= 6 and int(test['3'][index]) <= 8:\n",
    "        test['season'][index] = 'Summer'\n",
    "    elif int(test['3'][index]) >= 9 and int(test['3'][index]) <= 11:\n",
    "        test['season'][index] = 'Autumn'\n",
    "    else:\n",
    "        test['season'][index] = 'Winter'"
   ]
  },
  {
   "cell_type": "code",
   "execution_count": null,
   "metadata": {},
   "outputs": [],
   "source": [
    "train"
   ]
  },
  {
   "cell_type": "code",
   "execution_count": null,
   "metadata": {},
   "outputs": [],
   "source": [
    "test"
   ]
  },
  {
   "source": [
    "# Create model"
   ],
   "cell_type": "markdown",
   "metadata": {}
  },
  {
   "cell_type": "code",
   "execution_count": null,
   "metadata": {},
   "outputs": [],
   "source": [
    "new_train=pd.DataFrame(data=train,columns=['4','5','9','10','14','18','health','season','weight'])\n",
    "new_test=pd.DataFrame(data=test,columns=['4','5','9','10','14','18','health','season','weight'])"
   ]
  },
  {
   "source": [
    "## Pytorch"
   ],
   "cell_type": "markdown",
   "metadata": {}
  },
  {
   "cell_type": "code",
   "execution_count": null,
   "metadata": {},
   "outputs": [],
   "source": [
    "new_train.shape, new_test.shape"
   ]
  },
  {
   "cell_type": "code",
   "execution_count": null,
   "metadata": {},
   "outputs": [],
   "source": [
    "#把要one hot的類別轉換成數字\n",
    "from sklearn.preprocessing import LabelEncoder\n",
    "labelencoder = LabelEncoder()\n",
    "all_data=pd.concat([new_train,new_test])\n",
    "all_data['4'] = labelencoder.fit_transform(all_data['4'])\n",
    "all_data['5'] = labelencoder.fit_transform(all_data['5'])\n",
    "all_data['season'] = labelencoder.fit_transform(all_data['season'])\n",
    "all_data['health'] = labelencoder.fit_transform(all_data['health'])\n",
    "new_train = all_data[0:len(new_train)]\n",
    "new_test = all_data[len(new_train)::]\n",
    "all_data=pd.concat([new_train,new_test])"
   ]
  },
  {
   "cell_type": "code",
   "execution_count": null,
   "metadata": {},
   "outputs": [],
   "source": [
    "new_train"
   ]
  },
  {
   "cell_type": "code",
   "execution_count": null,
   "metadata": {},
   "outputs": [],
   "source": [
    "new_train.values, train['11']"
   ]
  },
  {
   "cell_type": "code",
   "execution_count": null,
   "metadata": {},
   "outputs": [],
   "source": [
    "inputs = new_train\n",
    "targets = train['11']\n",
    "inputs = torch.tensor(inputs.values)\n",
    "targets = torch.tensor(targets.values)\n",
    "targets = targets.reshape(33253, 1)\n",
    "inputs = inputs.float()\n",
    "targets = targets.float()"
   ]
  },
  {
   "cell_type": "code",
   "execution_count": null,
   "metadata": {},
   "outputs": [],
   "source": [
    "inputs, targets, inputs.shape, targets.shape"
   ]
  },
  {
   "cell_type": "code",
   "execution_count": null,
   "metadata": {},
   "outputs": [],
   "source": [
    "train_ds = TensorDataset(inputs, targets)\n",
    "train_ds[0:3]"
   ]
  },
  {
   "cell_type": "code",
   "execution_count": null,
   "metadata": {},
   "outputs": [],
   "source": [
    "batch_size = 64\n",
    "train_dl = DataLoader(train_ds, batch_size, shuffle=True)"
   ]
  },
  {
   "cell_type": "code",
   "execution_count": null,
   "metadata": {},
   "outputs": [],
   "source": [
    "model = nn.Sequential(\n",
    "    nn.Linear(9, 256),\n",
    "    nn.ReLU(),\n",
    "    nn.Linear(256, 256),\n",
    "    nn.ReLU(),\n",
    "    nn.Linear(256, 256),\n",
    "    nn.ReLU(),\n",
    "    nn.Linear(256, 256),\n",
    "    nn.ReLU(),\n",
    "    nn.Dropout(p=0.5),\n",
    "    nn.Linear(256, 1)\n",
    ")"
   ]
  },
  {
   "cell_type": "code",
   "execution_count": null,
   "metadata": {},
   "outputs": [],
   "source": [
    "summary(model, (33253, 9))"
   ]
  },
  {
   "cell_type": "code",
   "execution_count": null,
   "metadata": {},
   "outputs": [],
   "source": [
    "# Generate predictions\n",
    "preds = model(inputs)\n",
    "preds"
   ]
  },
  {
   "cell_type": "code",
   "execution_count": null,
   "metadata": {},
   "outputs": [],
   "source": [
    "preds, targets"
   ]
  },
  {
   "cell_type": "code",
   "execution_count": null,
   "metadata": {},
   "outputs": [],
   "source": [
    "loss_fn = nn.MSELoss()\n",
    "loss = torch.sqrt(loss_fn(preds, targets))\n",
    "print(loss)"
   ]
  },
  {
   "cell_type": "code",
   "execution_count": null,
   "metadata": {},
   "outputs": [],
   "source": [
    "# Define optimizer\n",
    "opt = torch.optim.Adam(model.parameters(), lr=1e-5)"
   ]
  },
  {
   "cell_type": "code",
   "execution_count": null,
   "metadata": {},
   "outputs": [],
   "source": [
    "# Utility function to train the model\n",
    "def fit(num_epochs, model, loss_fn, opt, train_dl):\n",
    "    \n",
    "    # Repeat for given number of epochs\n",
    "    for epoch in range(num_epochs):\n",
    "        \n",
    "        # Train with batches of data\n",
    "        for xb, yb in train_dl:\n",
    "            # 1. Generate predictions\n",
    "            pred = model(xb)\n",
    "            \n",
    "            # 2. Calculate loss\n",
    "\n",
    "            loss = torch.sqrt(loss_fn(pred, yb))\n",
    "            \n",
    "            # 3. Compute gradients\n",
    "            loss.backward()\n",
    "            \n",
    "            # 4. Update parameters using gradients\n",
    "            opt.step()\n",
    "            \n",
    "            # 5. Reset the gradients to zero\n",
    "            opt.zero_grad()\n",
    "        \n",
    "        # Print the progress\n",
    "        if (epoch+1) % 10 == 0:\n",
    "            print('Epoch [{}/{}], Loss: {:.4f}'.format(epoch+1, num_epochs, loss.item()))"
   ]
  },
  {
   "cell_type": "code",
   "execution_count": null,
   "metadata": {},
   "outputs": [],
   "source": [
    "fit(200, model, loss_fn, opt, train_dl)"
   ]
  },
  {
   "cell_type": "code",
   "execution_count": null,
   "metadata": {},
   "outputs": [],
   "source": [
    "time = datetime.now().strftime(\"%Y_%m_%d-%H_%M_%S\")\n",
    "torch.save(model.state_dict(), 'weights/' + time + '.pth')"
   ]
  },
  {
   "cell_type": "code",
   "execution_count": null,
   "metadata": {},
   "outputs": [],
   "source": [
    "# Generate predictions\n",
    "preds = model(inputs)\n",
    "preds"
   ]
  },
  {
   "cell_type": "code",
   "execution_count": null,
   "metadata": {},
   "outputs": [],
   "source": [
    "preds = preds.detach().numpy()\n",
    "preds = pd.DataFrame(preds)\n",
    "time = datetime.now().strftime(\"%Y_%m_%d-%H_%M_%S\")\n",
    "sub=pd.read_csv('data/submission.csv',sep=',')\n",
    "sub['1']=preds\n",
    "sub.to_csv('output/' + time + '.csv',index=False)"
   ]
  },
  {
   "cell_type": "code",
   "execution_count": null,
   "metadata": {},
   "outputs": [],
   "source": []
  }
 ]
}